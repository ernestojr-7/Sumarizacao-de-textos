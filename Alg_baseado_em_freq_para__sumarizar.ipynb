{
  "nbformat": 4,
  "nbformat_minor": 0,
  "metadata": {
    "colab": {
      "name": "Alg_baseado_em_freq_para_ sumarizar.ipynb",
      "provenance": [],
      "collapsed_sections": [
        "LCiAiO8LULAm",
        "b9qp7RfhZAaK",
        "7SKF87yAZ3iW",
        "6zNS8EciaQuC",
        "C05hd_M5c4yr",
        "rJ0aG69oUxc2",
        "XfjD0iDBrhFv"
      ],
      "toc_visible": true,
      "include_colab_link": true
    },
    "kernelspec": {
      "name": "python3",
      "display_name": "Python 3"
    }
  },
  "cells": [
    {
      "cell_type": "markdown",
      "metadata": {
        "id": "view-in-github",
        "colab_type": "text"
      },
      "source": [
        "<a href=\"https://colab.research.google.com/github/ernestojr-7/Sumarizacao-de-textos/blob/main/Alg_baseado_em_freq_para__sumarizar.ipynb\" target=\"_parent\"><img src=\"https://colab.research.google.com/assets/colab-badge.svg\" alt=\"Open In Colab\"/></a>"
      ]
    },
    {
      "cell_type": "markdown",
      "metadata": {
        "id": "GUEq8nGVXtwL"
      },
      "source": [
        "#Projeto básico de sumarização de textos baseado em frequência de palavras"
      ]
    },
    {
      "cell_type": "markdown",
      "metadata": {
        "id": "LCiAiO8LULAm"
      },
      "source": [
        "## Pré-processamento do texto"
      ]
    },
    {
      "cell_type": "code",
      "metadata": {
        "id": "ebloqnjuIbdh"
      },
      "source": [
        "import re\n",
        "import nltk\n",
        "import string"
      ],
      "execution_count": 1,
      "outputs": []
    },
    {
      "cell_type": "code",
      "metadata": {
        "id": "hNw0IvPjInIz"
      },
      "source": [
        "texto_original = \"\"\"A inteligência artificial é a inteligência similar à humana. \n",
        "                    Definem como o estudo de agente artificial com inteligência. \n",
        "                    Ciência e engenharia de produzir máquinas com inteligência. \n",
        "                    Resolver problemas e possuir inteligência. \n",
        "                    Relacionada ao comportamento inteligente. \n",
        "                    Construção de máquinas para raciocinar. \n",
        "                    Aprender com os erros e acertos. \n",
        "                    Inteligência artificial é raciocinar nas situações do cotidiano.\"\"\""
      ],
      "execution_count": 2,
      "outputs": []
    },
    {
      "cell_type": "code",
      "metadata": {
        "colab": {
          "base_uri": "https://localhost:8080/",
          "height": 70
        },
        "id": "G-pXqhIqI85A",
        "outputId": "bb85e30f-91b8-4e2a-dd3d-d824612b0c7a"
      },
      "source": [
        "texto_original"
      ],
      "execution_count": 3,
      "outputs": [
        {
          "output_type": "execute_result",
          "data": {
            "application/vnd.google.colaboratory.intrinsic+json": {
              "type": "string"
            },
            "text/plain": [
              "'A inteligência artificial é a inteligência similar à humana. \\n                    Definem como o estudo de agente artificial com inteligência. \\n                    Ciência e engenharia de produzir máquinas com inteligência. \\n                    Resolver problemas e possuir inteligência. \\n                    Relacionada ao comportamento inteligente. \\n                    Construção de máquinas para raciocinar. \\n                    Aprender com os erros e acertos. \\n                    Inteligência artificial é raciocinar nas situações do cotidiano.'"
            ]
          },
          "metadata": {},
          "execution_count": 3
        }
      ]
    },
    {
      "cell_type": "code",
      "metadata": {
        "id": "dzqvD4OWJJb7"
      },
      "source": [
        "texto_original = re.sub(r'  +', ' ', texto_original)"
      ],
      "execution_count": 4,
      "outputs": []
    },
    {
      "cell_type": "code",
      "metadata": {
        "colab": {
          "base_uri": "https://localhost:8080/",
          "height": 70
        },
        "id": "R1HavIL9Jgfb",
        "outputId": "55f7a4d3-14d7-472e-aad2-977eaa7c24f3"
      },
      "source": [
        "texto_original"
      ],
      "execution_count": 5,
      "outputs": [
        {
          "output_type": "execute_result",
          "data": {
            "application/vnd.google.colaboratory.intrinsic+json": {
              "type": "string"
            },
            "text/plain": [
              "'A inteligência artificial é a inteligência similar à humana. \\n Definem como o estudo de agente artificial com inteligência. \\n Ciência e engenharia de produzir máquinas com inteligência. \\n Resolver problemas e possuir inteligência. \\n Relacionada ao comportamento inteligente. \\n Construção de máquinas para raciocinar. \\n Aprender com os erros e acertos. \\n Inteligência artificial é raciocinar nas situações do cotidiano.'"
            ]
          },
          "metadata": {},
          "execution_count": 5
        }
      ]
    },
    {
      "cell_type": "code",
      "metadata": {
        "colab": {
          "base_uri": "https://localhost:8080/"
        },
        "id": "rDXCPV_5KyUZ",
        "outputId": "483b46b3-fc76-4d7f-8c60-839b68678f4c"
      },
      "source": [
        "nltk.download('punkt')"
      ],
      "execution_count": 6,
      "outputs": [
        {
          "output_type": "stream",
          "name": "stdout",
          "text": [
            "[nltk_data] Downloading package punkt to /root/nltk_data...\n",
            "[nltk_data]   Unzipping tokenizers/punkt.zip.\n"
          ]
        },
        {
          "output_type": "execute_result",
          "data": {
            "text/plain": [
              "True"
            ]
          },
          "metadata": {},
          "execution_count": 6
        }
      ]
    },
    {
      "cell_type": "code",
      "metadata": {
        "colab": {
          "base_uri": "https://localhost:8080/"
        },
        "id": "idHTfn9ALKWR",
        "outputId": "ca1f8d4c-c479-4efe-a1b8-afc9b932b0fc"
      },
      "source": [
        "nltk.download('stopwords')"
      ],
      "execution_count": 7,
      "outputs": [
        {
          "output_type": "stream",
          "name": "stdout",
          "text": [
            "[nltk_data] Downloading package stopwords to /root/nltk_data...\n",
            "[nltk_data]   Unzipping corpora/stopwords.zip.\n"
          ]
        },
        {
          "output_type": "execute_result",
          "data": {
            "text/plain": [
              "True"
            ]
          },
          "metadata": {},
          "execution_count": 7
        }
      ]
    },
    {
      "cell_type": "code",
      "metadata": {
        "colab": {
          "base_uri": "https://localhost:8080/"
        },
        "id": "_9fQjEGWLQ2P",
        "outputId": "cff03d9f-e89b-402f-9a74-9d622be97839"
      },
      "source": [
        "stopwords = nltk.corpus.stopwords.words('portuguese')\n",
        "print(stopwords)"
      ],
      "execution_count": 8,
      "outputs": [
        {
          "output_type": "stream",
          "name": "stdout",
          "text": [
            "['de', 'a', 'o', 'que', 'e', 'é', 'do', 'da', 'em', 'um', 'para', 'com', 'não', 'uma', 'os', 'no', 'se', 'na', 'por', 'mais', 'as', 'dos', 'como', 'mas', 'ao', 'ele', 'das', 'à', 'seu', 'sua', 'ou', 'quando', 'muito', 'nos', 'já', 'eu', 'também', 'só', 'pelo', 'pela', 'até', 'isso', 'ela', 'entre', 'depois', 'sem', 'mesmo', 'aos', 'seus', 'quem', 'nas', 'me', 'esse', 'eles', 'você', 'essa', 'num', 'nem', 'suas', 'meu', 'às', 'minha', 'numa', 'pelos', 'elas', 'qual', 'nós', 'lhe', 'deles', 'essas', 'esses', 'pelas', 'este', 'dele', 'tu', 'te', 'vocês', 'vos', 'lhes', 'meus', 'minhas', 'teu', 'tua', 'teus', 'tuas', 'nosso', 'nossa', 'nossos', 'nossas', 'dela', 'delas', 'esta', 'estes', 'estas', 'aquele', 'aquela', 'aqueles', 'aquelas', 'isto', 'aquilo', 'estou', 'está', 'estamos', 'estão', 'estive', 'esteve', 'estivemos', 'estiveram', 'estava', 'estávamos', 'estavam', 'estivera', 'estivéramos', 'esteja', 'estejamos', 'estejam', 'estivesse', 'estivéssemos', 'estivessem', 'estiver', 'estivermos', 'estiverem', 'hei', 'há', 'havemos', 'hão', 'houve', 'houvemos', 'houveram', 'houvera', 'houvéramos', 'haja', 'hajamos', 'hajam', 'houvesse', 'houvéssemos', 'houvessem', 'houver', 'houvermos', 'houverem', 'houverei', 'houverá', 'houveremos', 'houverão', 'houveria', 'houveríamos', 'houveriam', 'sou', 'somos', 'são', 'era', 'éramos', 'eram', 'fui', 'foi', 'fomos', 'foram', 'fora', 'fôramos', 'seja', 'sejamos', 'sejam', 'fosse', 'fôssemos', 'fossem', 'for', 'formos', 'forem', 'serei', 'será', 'seremos', 'serão', 'seria', 'seríamos', 'seriam', 'tenho', 'tem', 'temos', 'tém', 'tinha', 'tínhamos', 'tinham', 'tive', 'teve', 'tivemos', 'tiveram', 'tivera', 'tivéramos', 'tenha', 'tenhamos', 'tenham', 'tivesse', 'tivéssemos', 'tivessem', 'tiver', 'tivermos', 'tiverem', 'terei', 'terá', 'teremos', 'terão', 'teria', 'teríamos', 'teriam']\n"
          ]
        }
      ]
    },
    {
      "cell_type": "code",
      "metadata": {
        "colab": {
          "base_uri": "https://localhost:8080/",
          "height": 35
        },
        "id": "iH4acUY4MGEP",
        "outputId": "ea78943b-c1ac-45aa-ddcb-123eb6200c67"
      },
      "source": [
        "string.punctuation"
      ],
      "execution_count": 9,
      "outputs": [
        {
          "output_type": "execute_result",
          "data": {
            "application/vnd.google.colaboratory.intrinsic+json": {
              "type": "string"
            },
            "text/plain": [
              "'!\"#$%&\\'()*+,-./:;<=>?@[\\\\]^_`{|}~'"
            ]
          },
          "metadata": {},
          "execution_count": 9
        }
      ]
    },
    {
      "cell_type": "code",
      "metadata": {
        "id": "Uxw-AMecJ-LZ"
      },
      "source": [
        "def pre_processamento(texto):\n",
        "  texto_formatado = texto.lower()\n",
        "  tokens = []\n",
        "  for token in nltk.word_tokenize(texto_formatado):\n",
        "    tokens.append(token)\n",
        "\n",
        "  tokens = [palavra for palavra in tokens if palavra not in stopwords and palavra not in string.punctuation]\n",
        "  texto_formatado = ' '.join([str(elemento) for elemento in tokens if not elemento.isdigit()])\n",
        "\n",
        "  return texto_formatado"
      ],
      "execution_count": 10,
      "outputs": []
    },
    {
      "cell_type": "code",
      "metadata": {
        "colab": {
          "base_uri": "https://localhost:8080/",
          "height": 53
        },
        "id": "AsfdoqN7KJcS",
        "outputId": "3bc1416b-7bd2-498b-94ac-3199e565bae8"
      },
      "source": [
        "texto_formatado = pre_processamento(texto_original)\n",
        "texto_formatado"
      ],
      "execution_count": 11,
      "outputs": [
        {
          "output_type": "execute_result",
          "data": {
            "application/vnd.google.colaboratory.intrinsic+json": {
              "type": "string"
            },
            "text/plain": [
              "'inteligência artificial inteligência similar humana definem estudo agente artificial inteligência ciência engenharia produzir máquinas inteligência resolver problemas possuir inteligência relacionada comportamento inteligente construção máquinas raciocinar aprender erros acertos inteligência artificial raciocinar situações cotidiano'"
            ]
          },
          "metadata": {},
          "execution_count": 11
        }
      ]
    },
    {
      "cell_type": "markdown",
      "metadata": {
        "id": "b9qp7RfhZAaK"
      },
      "source": [
        "## Frequência das palavras"
      ]
    },
    {
      "cell_type": "code",
      "metadata": {
        "colab": {
          "base_uri": "https://localhost:8080/"
        },
        "id": "SfreeT-MNd9B",
        "outputId": "55f1eaef-6b05-4619-87cc-0af18e24b870"
      },
      "source": [
        "frequencia_palavras = nltk.FreqDist(nltk.word_tokenize(texto_formatado))\n",
        "frequencia_palavras"
      ],
      "execution_count": 12,
      "outputs": [
        {
          "output_type": "execute_result",
          "data": {
            "text/plain": [
              "FreqDist({'acertos': 1,\n",
              "          'agente': 1,\n",
              "          'aprender': 1,\n",
              "          'artificial': 3,\n",
              "          'ciência': 1,\n",
              "          'comportamento': 1,\n",
              "          'construção': 1,\n",
              "          'cotidiano': 1,\n",
              "          'definem': 1,\n",
              "          'engenharia': 1,\n",
              "          'erros': 1,\n",
              "          'estudo': 1,\n",
              "          'humana': 1,\n",
              "          'inteligente': 1,\n",
              "          'inteligência': 6,\n",
              "          'máquinas': 2,\n",
              "          'possuir': 1,\n",
              "          'problemas': 1,\n",
              "          'produzir': 1,\n",
              "          'raciocinar': 2,\n",
              "          'relacionada': 1,\n",
              "          'resolver': 1,\n",
              "          'similar': 1,\n",
              "          'situações': 1})"
            ]
          },
          "metadata": {},
          "execution_count": 12
        }
      ]
    },
    {
      "cell_type": "code",
      "metadata": {
        "colab": {
          "base_uri": "https://localhost:8080/"
        },
        "id": "q_ZAmlrXOLcd",
        "outputId": "fb6c748d-4a7d-4486-c1eb-af392accdce9"
      },
      "source": [
        "frequencia_palavras.keys()"
      ],
      "execution_count": 13,
      "outputs": [
        {
          "output_type": "execute_result",
          "data": {
            "text/plain": [
              "dict_keys(['inteligência', 'artificial', 'similar', 'humana', 'definem', 'estudo', 'agente', 'ciência', 'engenharia', 'produzir', 'máquinas', 'resolver', 'problemas', 'possuir', 'relacionada', 'comportamento', 'inteligente', 'construção', 'raciocinar', 'aprender', 'erros', 'acertos', 'situações', 'cotidiano'])"
            ]
          },
          "metadata": {},
          "execution_count": 13
        }
      ]
    },
    {
      "cell_type": "code",
      "metadata": {
        "id": "GpzgxTMhOqw6",
        "colab": {
          "base_uri": "https://localhost:8080/"
        },
        "outputId": "24418a6b-9297-4a3f-f101-7c7e82a4ad15"
      },
      "source": [
        "frequencia_maxima = max(frequencia_palavras.values())\n",
        "frequencia_maxima"
      ],
      "execution_count": 14,
      "outputs": [
        {
          "output_type": "execute_result",
          "data": {
            "text/plain": [
              "6"
            ]
          },
          "metadata": {},
          "execution_count": 14
        }
      ]
    },
    {
      "cell_type": "code",
      "metadata": {
        "id": "DObCdFaxO0od",
        "colab": {
          "base_uri": "https://localhost:8080/"
        },
        "outputId": "f233ca92-4426-4d4a-dd61-a0537a2f1a6a"
      },
      "source": [
        "for palavra in frequencia_palavras.keys():\n",
        "  frequencia_palavras[palavra] = (frequencia_palavras[palavra] / frequencia_maxima)\n",
        "frequencia_palavras"
      ],
      "execution_count": 15,
      "outputs": [
        {
          "output_type": "execute_result",
          "data": {
            "text/plain": [
              "FreqDist({'acertos': 0.16666666666666666,\n",
              "          'agente': 0.16666666666666666,\n",
              "          'aprender': 0.16666666666666666,\n",
              "          'artificial': 0.5,\n",
              "          'ciência': 0.16666666666666666,\n",
              "          'comportamento': 0.16666666666666666,\n",
              "          'construção': 0.16666666666666666,\n",
              "          'cotidiano': 0.16666666666666666,\n",
              "          'definem': 0.16666666666666666,\n",
              "          'engenharia': 0.16666666666666666,\n",
              "          'erros': 0.16666666666666666,\n",
              "          'estudo': 0.16666666666666666,\n",
              "          'humana': 0.16666666666666666,\n",
              "          'inteligente': 0.16666666666666666,\n",
              "          'inteligência': 1.0,\n",
              "          'máquinas': 0.3333333333333333,\n",
              "          'possuir': 0.16666666666666666,\n",
              "          'problemas': 0.16666666666666666,\n",
              "          'produzir': 0.16666666666666666,\n",
              "          'raciocinar': 0.3333333333333333,\n",
              "          'relacionada': 0.16666666666666666,\n",
              "          'resolver': 0.16666666666666666,\n",
              "          'similar': 0.16666666666666666,\n",
              "          'situações': 0.16666666666666666})"
            ]
          },
          "metadata": {},
          "execution_count": 15
        }
      ]
    },
    {
      "cell_type": "markdown",
      "metadata": {
        "id": "7SKF87yAZ3iW"
      },
      "source": [
        "## Tokenização de sentenças"
      ]
    },
    {
      "cell_type": "code",
      "metadata": {
        "colab": {
          "base_uri": "https://localhost:8080/"
        },
        "id": "eD5DqdcyPokT",
        "outputId": "59ba45eb-ad0a-4984-e40d-bf7a853cfa73"
      },
      "source": [
        "# essa nao e uma boa tatica\n",
        "'o dr. joão foi para casa. Ele chegou cedo'.split('.')"
      ],
      "execution_count": 16,
      "outputs": [
        {
          "output_type": "execute_result",
          "data": {
            "text/plain": [
              "['o dr', ' joão foi para casa', ' Ele chegou cedo']"
            ]
          },
          "metadata": {},
          "execution_count": 16
        }
      ]
    },
    {
      "cell_type": "code",
      "metadata": {
        "colab": {
          "base_uri": "https://localhost:8080/"
        },
        "id": "iiAe588tP-GC",
        "outputId": "6f5361b0-ff67-4a1e-8dc9-2d6ccc8774fc"
      },
      "source": [
        "nltk.word_tokenize('o dr. joão foi para casa. Ele chegou cedo')"
      ],
      "execution_count": 17,
      "outputs": [
        {
          "output_type": "execute_result",
          "data": {
            "text/plain": [
              "['o', 'dr.', 'joão', 'foi', 'para', 'casa', '.', 'Ele', 'chegou', 'cedo']"
            ]
          },
          "metadata": {},
          "execution_count": 17
        }
      ]
    },
    {
      "cell_type": "code",
      "metadata": {
        "colab": {
          "base_uri": "https://localhost:8080/"
        },
        "id": "AJC_Bjq0QLBP",
        "outputId": "db3ddaf8-5e89-4070-b17c-d4d42d5b17c7"
      },
      "source": [
        "nltk.sent_tokenize('o dr. joão foi para casa. Ele chegou cedo')"
      ],
      "execution_count": 18,
      "outputs": [
        {
          "output_type": "execute_result",
          "data": {
            "text/plain": [
              "['o dr. joão foi para casa.', 'Ele chegou cedo']"
            ]
          },
          "metadata": {},
          "execution_count": 18
        }
      ]
    },
    {
      "cell_type": "code",
      "metadata": {
        "colab": {
          "base_uri": "https://localhost:8080/"
        },
        "id": "tqCsJlSEQX8n",
        "outputId": "0f64f31b-2f58-4f5f-922f-72034686e383"
      },
      "source": [
        "lista_sentencas = nltk.sent_tokenize(texto_original)\n",
        "lista_sentencas"
      ],
      "execution_count": 19,
      "outputs": [
        {
          "output_type": "execute_result",
          "data": {
            "text/plain": [
              "['A inteligência artificial é a inteligência similar à humana.',\n",
              " 'Definem como o estudo de agente artificial com inteligência.',\n",
              " 'Ciência e engenharia de produzir máquinas com inteligência.',\n",
              " 'Resolver problemas e possuir inteligência.',\n",
              " 'Relacionada ao comportamento inteligente.',\n",
              " 'Construção de máquinas para raciocinar.',\n",
              " 'Aprender com os erros e acertos.',\n",
              " 'Inteligência artificial é raciocinar nas situações do cotidiano.']"
            ]
          },
          "metadata": {},
          "execution_count": 19
        }
      ]
    },
    {
      "cell_type": "markdown",
      "metadata": {
        "id": "6zNS8EciaQuC"
      },
      "source": [
        "## Geração do resumo (nota para cada sentença)"
      ]
    },
    {
      "cell_type": "code",
      "metadata": {
        "colab": {
          "base_uri": "https://localhost:8080/"
        },
        "id": "zgO5vlO_T0oO",
        "outputId": "14094773-bc4f-4223-e06c-abfb78d15b21"
      },
      "source": [
        "frequencia_palavras"
      ],
      "execution_count": 20,
      "outputs": [
        {
          "output_type": "execute_result",
          "data": {
            "text/plain": [
              "FreqDist({'acertos': 0.16666666666666666,\n",
              "          'agente': 0.16666666666666666,\n",
              "          'aprender': 0.16666666666666666,\n",
              "          'artificial': 0.5,\n",
              "          'ciência': 0.16666666666666666,\n",
              "          'comportamento': 0.16666666666666666,\n",
              "          'construção': 0.16666666666666666,\n",
              "          'cotidiano': 0.16666666666666666,\n",
              "          'definem': 0.16666666666666666,\n",
              "          'engenharia': 0.16666666666666666,\n",
              "          'erros': 0.16666666666666666,\n",
              "          'estudo': 0.16666666666666666,\n",
              "          'humana': 0.16666666666666666,\n",
              "          'inteligente': 0.16666666666666666,\n",
              "          'inteligência': 1.0,\n",
              "          'máquinas': 0.3333333333333333,\n",
              "          'possuir': 0.16666666666666666,\n",
              "          'problemas': 0.16666666666666666,\n",
              "          'produzir': 0.16666666666666666,\n",
              "          'raciocinar': 0.3333333333333333,\n",
              "          'relacionada': 0.16666666666666666,\n",
              "          'resolver': 0.16666666666666666,\n",
              "          'similar': 0.16666666666666666,\n",
              "          'situações': 0.16666666666666666})"
            ]
          },
          "metadata": {},
          "execution_count": 20
        }
      ]
    },
    {
      "cell_type": "code",
      "metadata": {
        "id": "vtQ0xid0TVKE"
      },
      "source": [
        "nota_sentencas = {}\n",
        "for sentenca in lista_sentencas:\n",
        "  for palavra in nltk.word_tokenize(sentenca.lower()):\n",
        "    if palavra in frequencia_palavras.keys():\n",
        "      if sentenca not in nota_sentencas.keys():\n",
        "        nota_sentencas[sentenca] = frequencia_palavras[palavra]\n",
        "      else:\n",
        "        nota_sentencas[sentenca] += frequencia_palavras[palavra]"
      ],
      "execution_count": 21,
      "outputs": []
    },
    {
      "cell_type": "code",
      "metadata": {
        "colab": {
          "base_uri": "https://localhost:8080/"
        },
        "id": "6Q32tttLVWnl",
        "outputId": "908752ad-639c-4ed3-c177-98dc7a045a5d"
      },
      "source": [
        "nota_sentencas"
      ],
      "execution_count": 22,
      "outputs": [
        {
          "output_type": "execute_result",
          "data": {
            "text/plain": [
              "{'A inteligência artificial é a inteligência similar à humana.': 2.833333333333333,\n",
              " 'Aprender com os erros e acertos.': 0.5,\n",
              " 'Ciência e engenharia de produzir máquinas com inteligência.': 1.8333333333333333,\n",
              " 'Construção de máquinas para raciocinar.': 0.8333333333333333,\n",
              " 'Definem como o estudo de agente artificial com inteligência.': 2.0,\n",
              " 'Inteligência artificial é raciocinar nas situações do cotidiano.': 2.1666666666666665,\n",
              " 'Relacionada ao comportamento inteligente.': 0.5,\n",
              " 'Resolver problemas e possuir inteligência.': 1.5}"
            ]
          },
          "metadata": {},
          "execution_count": 22
        }
      ]
    },
    {
      "cell_type": "code",
      "metadata": {
        "id": "4L1SeNy4Vnah"
      },
      "source": [
        "import heapq\n",
        "melhores_sentencas = heapq.nlargest(3, nota_sentencas, key=nota_sentencas.get)"
      ],
      "execution_count": 23,
      "outputs": []
    },
    {
      "cell_type": "code",
      "metadata": {
        "colab": {
          "base_uri": "https://localhost:8080/"
        },
        "id": "WkTynuK-V8Tr",
        "outputId": "2192b513-f1e9-4e3e-ed67-091ceaf6ee36"
      },
      "source": [
        "melhores_sentencas"
      ],
      "execution_count": 24,
      "outputs": [
        {
          "output_type": "execute_result",
          "data": {
            "text/plain": [
              "['A inteligência artificial é a inteligência similar à humana.',\n",
              " 'Inteligência artificial é raciocinar nas situações do cotidiano.',\n",
              " 'Definem como o estudo de agente artificial com inteligência.']"
            ]
          },
          "metadata": {},
          "execution_count": 24
        }
      ]
    },
    {
      "cell_type": "code",
      "metadata": {
        "colab": {
          "base_uri": "https://localhost:8080/",
          "height": 35
        },
        "id": "TB0-dAzlWRwV",
        "outputId": "8d23a326-82f1-48b0-e3f6-87a8d3959990"
      },
      "source": [
        "resumo = ' '.join(melhores_sentencas)\n",
        "resumo"
      ],
      "execution_count": 25,
      "outputs": [
        {
          "output_type": "execute_result",
          "data": {
            "application/vnd.google.colaboratory.intrinsic+json": {
              "type": "string"
            },
            "text/plain": [
              "'A inteligência artificial é a inteligência similar à humana. Inteligência artificial é raciocinar nas situações do cotidiano. Definem como o estudo de agente artificial com inteligência.'"
            ]
          },
          "metadata": {},
          "execution_count": 25
        }
      ]
    },
    {
      "cell_type": "code",
      "metadata": {
        "colab": {
          "base_uri": "https://localhost:8080/",
          "height": 70
        },
        "id": "qkw5lFjGWZWa",
        "outputId": "e88c1e16-9677-4d01-8464-06a0041f4f39"
      },
      "source": [
        "texto_original"
      ],
      "execution_count": 26,
      "outputs": [
        {
          "output_type": "execute_result",
          "data": {
            "application/vnd.google.colaboratory.intrinsic+json": {
              "type": "string"
            },
            "text/plain": [
              "'A inteligência artificial é a inteligência similar à humana. \\n Definem como o estudo de agente artificial com inteligência. \\n Ciência e engenharia de produzir máquinas com inteligência. \\n Resolver problemas e possuir inteligência. \\n Relacionada ao comportamento inteligente. \\n Construção de máquinas para raciocinar. \\n Aprender com os erros e acertos. \\n Inteligência artificial é raciocinar nas situações do cotidiano.'"
            ]
          },
          "metadata": {},
          "execution_count": 26
        }
      ]
    },
    {
      "cell_type": "markdown",
      "metadata": {
        "id": "C05hd_M5c4yr"
      },
      "source": [
        "## Visualização do resumo"
      ]
    },
    {
      "cell_type": "code",
      "metadata": {
        "colab": {
          "base_uri": "https://localhost:8080/",
          "height": 109
        },
        "id": "GT7PCH1CW3Vg",
        "outputId": "4191e82d-c779-406a-87d8-fae037a54750"
      },
      "source": [
        "from IPython.core.display import HTML\n",
        "texto = ''\n",
        "\n",
        "display(HTML(f'<h1>Resumo do texto</h1>'))\n",
        "for sentenca in lista_sentencas:\n",
        "  if sentenca in melhores_sentencas:\n",
        "    texto += str(sentenca).replace(sentenca, f'<mark>{sentenca}</mark>')\n",
        "  else:\n",
        "    texto += sentenca\n",
        "display(HTML(f\"\"\"{texto}\"\"\"))"
      ],
      "execution_count": 27,
      "outputs": [
        {
          "output_type": "display_data",
          "data": {
            "text/html": [
              "<h1>Resumo do texto</h1>"
            ],
            "text/plain": [
              "<IPython.core.display.HTML object>"
            ]
          },
          "metadata": {}
        },
        {
          "output_type": "display_data",
          "data": {
            "text/html": [
              "<mark>A inteligência artificial é a inteligência similar à humana.</mark><mark>Definem como o estudo de agente artificial com inteligência.</mark>Ciência e engenharia de produzir máquinas com inteligência.Resolver problemas e possuir inteligência.Relacionada ao comportamento inteligente.Construção de máquinas para raciocinar.Aprender com os erros e acertos.<mark>Inteligência artificial é raciocinar nas situações do cotidiano.</mark>"
            ],
            "text/plain": [
              "<IPython.core.display.HTML object>"
            ]
          },
          "metadata": {}
        }
      ]
    },
    {
      "cell_type": "markdown",
      "metadata": {
        "id": "rJ0aG69oUxc2"
      },
      "source": [
        "# Extração de texto da internet"
      ]
    },
    {
      "cell_type": "code",
      "metadata": {
        "id": "ypDK-KpDY4pc",
        "colab": {
          "base_uri": "https://localhost:8080/"
        },
        "outputId": "2acbc05e-0ce8-4e0f-f586-66d454e1cc61"
      },
      "source": [
        "!pip install goose3"
      ],
      "execution_count": 28,
      "outputs": [
        {
          "output_type": "stream",
          "name": "stdout",
          "text": [
            "Collecting goose3\n",
            "  Downloading goose3-3.1.10-py3-none-any.whl (86 kB)\n",
            "\u001b[?25l\r\u001b[K     |███▊                            | 10 kB 17.4 MB/s eta 0:00:01\r\u001b[K     |███████▌                        | 20 kB 11.2 MB/s eta 0:00:01\r\u001b[K     |███████████▎                    | 30 kB 9.0 MB/s eta 0:00:01\r\u001b[K     |███████████████                 | 40 kB 8.5 MB/s eta 0:00:01\r\u001b[K     |██████████████████▉             | 51 kB 5.3 MB/s eta 0:00:01\r\u001b[K     |██████████████████████▋         | 61 kB 5.7 MB/s eta 0:00:01\r\u001b[K     |██████████████████████████▍     | 71 kB 5.6 MB/s eta 0:00:01\r\u001b[K     |██████████████████████████████▏ | 81 kB 6.2 MB/s eta 0:00:01\r\u001b[K     |████████████████████████████████| 86 kB 2.6 MB/s \n",
            "\u001b[?25hRequirement already satisfied: jieba in /usr/local/lib/python3.7/dist-packages (from goose3) (0.42.1)\n",
            "Requirement already satisfied: beautifulsoup4 in /usr/local/lib/python3.7/dist-packages (from goose3) (4.6.3)\n",
            "Requirement already satisfied: Pillow in /usr/local/lib/python3.7/dist-packages (from goose3) (7.1.2)\n",
            "Requirement already satisfied: python-dateutil in /usr/local/lib/python3.7/dist-packages (from goose3) (2.8.2)\n",
            "Collecting cssselect\n",
            "  Downloading cssselect-1.1.0-py2.py3-none-any.whl (16 kB)\n",
            "Requirement already satisfied: nltk in /usr/local/lib/python3.7/dist-packages (from goose3) (3.2.5)\n",
            "Requirement already satisfied: lxml in /usr/local/lib/python3.7/dist-packages (from goose3) (4.2.6)\n",
            "Collecting langdetect\n",
            "  Downloading langdetect-1.0.9.tar.gz (981 kB)\n",
            "\u001b[K     |████████████████████████████████| 981 kB 36.6 MB/s \n",
            "\u001b[?25hRequirement already satisfied: requests in /usr/local/lib/python3.7/dist-packages (from goose3) (2.23.0)\n",
            "Requirement already satisfied: six in /usr/local/lib/python3.7/dist-packages (from langdetect->goose3) (1.15.0)\n",
            "Requirement already satisfied: urllib3!=1.25.0,!=1.25.1,<1.26,>=1.21.1 in /usr/local/lib/python3.7/dist-packages (from requests->goose3) (1.24.3)\n",
            "Requirement already satisfied: chardet<4,>=3.0.2 in /usr/local/lib/python3.7/dist-packages (from requests->goose3) (3.0.4)\n",
            "Requirement already satisfied: certifi>=2017.4.17 in /usr/local/lib/python3.7/dist-packages (from requests->goose3) (2021.10.8)\n",
            "Requirement already satisfied: idna<3,>=2.5 in /usr/local/lib/python3.7/dist-packages (from requests->goose3) (2.10)\n",
            "Building wheels for collected packages: langdetect\n",
            "  Building wheel for langdetect (setup.py) ... \u001b[?25l\u001b[?25hdone\n",
            "  Created wheel for langdetect: filename=langdetect-1.0.9-py3-none-any.whl size=993242 sha256=c5cca70a8cbc97beb4284a066b773015bff33761a674750158dc586e3396afe0\n",
            "  Stored in directory: /root/.cache/pip/wheels/c5/96/8a/f90c59ed25d75e50a8c10a1b1c2d4c402e4dacfa87f3aff36a\n",
            "Successfully built langdetect\n",
            "Installing collected packages: langdetect, cssselect, goose3\n",
            "Successfully installed cssselect-1.1.0 goose3-3.1.10 langdetect-1.0.9\n"
          ]
        }
      ]
    },
    {
      "cell_type": "code",
      "metadata": {
        "id": "tieDeYNJZC06"
      },
      "source": [
        "from goose3 import Goose"
      ],
      "execution_count": 29,
      "outputs": []
    },
    {
      "cell_type": "code",
      "metadata": {
        "id": "UTS2OxXCZFy6"
      },
      "source": [
        "g = Goose()\n",
        "url = 'https://iaexpert.academy/2020/11/09/ia-preve-resultado-das-eleicoes-americanas/'\n",
        "artigo = g.extract(url)"
      ],
      "execution_count": 30,
      "outputs": []
    },
    {
      "cell_type": "code",
      "metadata": {
        "colab": {
          "base_uri": "https://localhost:8080/"
        },
        "id": "2pNEH9YaZTva",
        "outputId": "43c20aef-ce92-4202-f947-c7bdd8b1e7c2"
      },
      "source": [
        "artigo.infos"
      ],
      "execution_count": 31,
      "outputs": [
        {
          "output_type": "execute_result",
          "data": {
            "text/plain": [
              "{'authors': ['Denny Ceccon'],\n",
              " 'cleaned_text': 'Nas eleições presidenciais americanas de 2016, a maioria das predições apontavam para a vitória de Hillary Clinton. Entretanto, a história nos mostrou o resultado oposto, e Donald Trump foi o presidente nos últimos 4 anos. Desta vez, os estatísticos reexaminaram seus modelos, para aumentar o grau de confiabilidade nos seus resultados. Nesta tentativa de otimização das predições, a inteligência artificial certamente não ficou de fora.\\n\\nO modelo desenvolvido pelo Dr. Hernan Makse, físico estatístico da Universidade da Cidade de Nova York, baseou suas predições em uma rede neural treinada para processar os sentimentos expressos nas redes sociais. O algoritmo fez a análise de cerca de 1 bilhão de tweets para chegar a uma estimativa dos resultados do pleito. No dia da eleição, 3 de novembro, o modelo estava indicando a vitória de Joe Biden.\\n\\nO Dr. Makse disse que seu trabalho começou já na eleição de 2016, e foi testado novamente nas eleições na Argentina ano passado. Desta vez, o modelo está treinando com cerca de 5 vezes mais dados que nas eleições americanas anteriores. O trabalho não depende apenas da coleta dos dados, mas também de um tratamento estatístico adequado para levar em consideração duas variáveis externas: o viés de amostragem e a taxa de comparecimento. O primeiro fator se refere ao fato de que as redes sociais não necessariamente representam a população americana. A participação em redes sociais costuma ser maior nas cidades grandes, que de fato têm preferência por um dos candidatos, e o modelo deve ser corrigido para levar em consideração também a opinião das pessoas que não são ativas neste ambiente virtual. O segundo fator se deve à não-obrigatoriedade de votação nos Estados Unidos, ou seja, por mais que uma pessoa tenha sua preferência, pode ser que ela não compareça aos locais de votação para efetivá-la. Segundo o Dr. Makse, integrar estas duas variáveis em seu modelo é a parte mais importante do trabalho. Ele acredita ser esta uma das razões para que as estimativas da última eleição, baseadas em métodos tradicionais de coleta de informação, terem falhado. Sua equipe acompanhou as tendências apresentadas nas últimas eleições na Europa, e os modelos estão se revelando cada vez melhores.\\n\\nQuando seu modelo foi usado para predizer os resultados da eleição corrente usando dados brutos, Joe Biden apareceu como vencedor com larga vantagem. Após aplicar os mecanismos de correção para os dois vieses identificados, a vantagem diminuiu, mas Biden ainda é indicado como favorito.\\n\\nParece que, desta vez, os algoritmos estão de fato contribuindo para que as predições sejam mais precisas.',\n",
              " 'domain': 'iaexpert.academy',\n",
              " 'image': None,\n",
              " 'links': ['https://www.ccny.cuny.edu/profiles/hernan-makse',\n",
              "  'https://www.express.co.uk/news/science/1355192/artificial-intelligence-ai-news-twitter-us-election-2020-prediction-trump-biden-evg'],\n",
              " 'meta': {'canonical': 'https://iaexpert.academy/2020/11/09/ia-preve-resultado-das-eleicoes-americanas/',\n",
              "  'description': '',\n",
              "  'encoding': 'UTF-8',\n",
              "  'favicon': 'https://cdn.shortpixel.ai/spai/q_+ret_img/https://iaexpert.academy/wp-content/uploads/2020/06/cropped-favicon-1-32x32.png',\n",
              "  'keywords': '',\n",
              "  'lang': 'pt'},\n",
              " 'movies': [],\n",
              " 'opengraph': {},\n",
              " 'publish_date': None,\n",
              " 'tags': [],\n",
              " 'title': 'IA prevê resultado das eleições americanas – IA Expert Academy',\n",
              " 'tweets': []}"
            ]
          },
          "metadata": {},
          "execution_count": 31
        }
      ]
    },
    {
      "cell_type": "code",
      "metadata": {
        "colab": {
          "base_uri": "https://localhost:8080/",
          "height": 122
        },
        "id": "jkHF04VqZqot",
        "outputId": "da76639a-09e3-48bb-b157-607265248103"
      },
      "source": [
        "artigo.cleaned_text"
      ],
      "execution_count": 32,
      "outputs": [
        {
          "output_type": "execute_result",
          "data": {
            "application/vnd.google.colaboratory.intrinsic+json": {
              "type": "string"
            },
            "text/plain": [
              "'Nas eleições presidenciais americanas de 2016, a maioria das predições apontavam para a vitória de Hillary Clinton. Entretanto, a história nos mostrou o resultado oposto, e Donald Trump foi o presidente nos últimos 4 anos. Desta vez, os estatísticos reexaminaram seus modelos, para aumentar o grau de confiabilidade nos seus resultados. Nesta tentativa de otimização das predições, a inteligência artificial certamente não ficou de fora.\\n\\nO modelo desenvolvido pelo Dr. Hernan Makse, físico estatístico da Universidade da Cidade de Nova York, baseou suas predições em uma rede neural treinada para processar os sentimentos expressos nas redes sociais. O algoritmo fez a análise de cerca de 1 bilhão de tweets para chegar a uma estimativa dos resultados do pleito. No dia da eleição, 3 de novembro, o modelo estava indicando a vitória de Joe Biden.\\n\\nO Dr. Makse disse que seu trabalho começou já na eleição de 2016, e foi testado novamente nas eleições na Argentina ano passado. Desta vez, o modelo está treinando com cerca de 5 vezes mais dados que nas eleições americanas anteriores. O trabalho não depende apenas da coleta dos dados, mas também de um tratamento estatístico adequado para levar em consideração duas variáveis externas: o viés de amostragem e a taxa de comparecimento. O primeiro fator se refere ao fato de que as redes sociais não necessariamente representam a população americana. A participação em redes sociais costuma ser maior nas cidades grandes, que de fato têm preferência por um dos candidatos, e o modelo deve ser corrigido para levar em consideração também a opinião das pessoas que não são ativas neste ambiente virtual. O segundo fator se deve à não-obrigatoriedade de votação nos Estados Unidos, ou seja, por mais que uma pessoa tenha sua preferência, pode ser que ela não compareça aos locais de votação para efetivá-la. Segundo o Dr. Makse, integrar estas duas variáveis em seu modelo é a parte mais importante do trabalho. Ele acredita ser esta uma das razões para que as estimativas da última eleição, baseadas em métodos tradicionais de coleta de informação, terem falhado. Sua equipe acompanhou as tendências apresentadas nas últimas eleições na Europa, e os modelos estão se revelando cada vez melhores.\\n\\nQuando seu modelo foi usado para predizer os resultados da eleição corrente usando dados brutos, Joe Biden apareceu como vencedor com larga vantagem. Após aplicar os mecanismos de correção para os dois vieses identificados, a vantagem diminuiu, mas Biden ainda é indicado como favorito.\\n\\nParece que, desta vez, os algoritmos estão de fato contribuindo para que as predições sejam mais precisas.'"
            ]
          },
          "metadata": {},
          "execution_count": 32
        }
      ]
    },
    {
      "cell_type": "code",
      "metadata": {
        "colab": {
          "base_uri": "https://localhost:8080/",
          "height": 122
        },
        "id": "d5330LEeZy9E",
        "outputId": "83d9cf79-940e-44b4-dc50-d99965b43e60"
      },
      "source": [
        "artigo_original = artigo.cleaned_text\n",
        "artigo_original"
      ],
      "execution_count": 33,
      "outputs": [
        {
          "output_type": "execute_result",
          "data": {
            "application/vnd.google.colaboratory.intrinsic+json": {
              "type": "string"
            },
            "text/plain": [
              "'Nas eleições presidenciais americanas de 2016, a maioria das predições apontavam para a vitória de Hillary Clinton. Entretanto, a história nos mostrou o resultado oposto, e Donald Trump foi o presidente nos últimos 4 anos. Desta vez, os estatísticos reexaminaram seus modelos, para aumentar o grau de confiabilidade nos seus resultados. Nesta tentativa de otimização das predições, a inteligência artificial certamente não ficou de fora.\\n\\nO modelo desenvolvido pelo Dr. Hernan Makse, físico estatístico da Universidade da Cidade de Nova York, baseou suas predições em uma rede neural treinada para processar os sentimentos expressos nas redes sociais. O algoritmo fez a análise de cerca de 1 bilhão de tweets para chegar a uma estimativa dos resultados do pleito. No dia da eleição, 3 de novembro, o modelo estava indicando a vitória de Joe Biden.\\n\\nO Dr. Makse disse que seu trabalho começou já na eleição de 2016, e foi testado novamente nas eleições na Argentina ano passado. Desta vez, o modelo está treinando com cerca de 5 vezes mais dados que nas eleições americanas anteriores. O trabalho não depende apenas da coleta dos dados, mas também de um tratamento estatístico adequado para levar em consideração duas variáveis externas: o viés de amostragem e a taxa de comparecimento. O primeiro fator se refere ao fato de que as redes sociais não necessariamente representam a população americana. A participação em redes sociais costuma ser maior nas cidades grandes, que de fato têm preferência por um dos candidatos, e o modelo deve ser corrigido para levar em consideração também a opinião das pessoas que não são ativas neste ambiente virtual. O segundo fator se deve à não-obrigatoriedade de votação nos Estados Unidos, ou seja, por mais que uma pessoa tenha sua preferência, pode ser que ela não compareça aos locais de votação para efetivá-la. Segundo o Dr. Makse, integrar estas duas variáveis em seu modelo é a parte mais importante do trabalho. Ele acredita ser esta uma das razões para que as estimativas da última eleição, baseadas em métodos tradicionais de coleta de informação, terem falhado. Sua equipe acompanhou as tendências apresentadas nas últimas eleições na Europa, e os modelos estão se revelando cada vez melhores.\\n\\nQuando seu modelo foi usado para predizer os resultados da eleição corrente usando dados brutos, Joe Biden apareceu como vencedor com larga vantagem. Após aplicar os mecanismos de correção para os dois vieses identificados, a vantagem diminuiu, mas Biden ainda é indicado como favorito.\\n\\nParece que, desta vez, os algoritmos estão de fato contribuindo para que as predições sejam mais precisas.'"
            ]
          },
          "metadata": {},
          "execution_count": 33
        }
      ]
    },
    {
      "cell_type": "code",
      "metadata": {
        "colab": {
          "base_uri": "https://localhost:8080/",
          "height": 122
        },
        "id": "y_Py0p-tZ5o9",
        "outputId": "67ed73a0-0591-44f3-c9d9-e8b233be1aae"
      },
      "source": [
        "artigo_formatado = pre_processamento(artigo_original)\n",
        "artigo_formatado"
      ],
      "execution_count": 34,
      "outputs": [
        {
          "output_type": "execute_result",
          "data": {
            "application/vnd.google.colaboratory.intrinsic+json": {
              "type": "string"
            },
            "text/plain": [
              "'eleições presidenciais americanas maioria predições apontavam vitória hillary clinton entretanto história mostrou resultado oposto donald trump presidente últimos anos desta vez estatísticos reexaminaram modelos aumentar grau confiabilidade resultados nesta tentativa otimização predições inteligência artificial certamente ficou modelo desenvolvido dr. hernan makse físico estatístico universidade cidade nova york baseou predições rede neural treinada processar sentimentos expressos redes sociais algoritmo fez análise cerca bilhão tweets chegar estimativa resultados pleito dia eleição novembro modelo indicando vitória joe biden dr. makse disse trabalho começou eleição testado novamente eleições argentina ano passado desta vez modelo treinando cerca vezes dados eleições americanas anteriores trabalho depende apenas coleta dados tratamento estatístico adequado levar consideração duas variáveis externas viés amostragem taxa comparecimento primeiro fator refere fato redes sociais necessariamente representam população americana participação redes sociais costuma ser maior cidades grandes fato têm preferência candidatos modelo deve ser corrigido levar consideração opinião pessoas ativas neste ambiente virtual segundo fator deve não-obrigatoriedade votação estados unidos pessoa preferência pode ser compareça locais votação efetivá-la segundo dr. makse integrar duas variáveis modelo parte importante trabalho acredita ser razões estimativas última eleição baseadas métodos tradicionais coleta informação terem falhado equipe acompanhou tendências apresentadas últimas eleições europa modelos revelando cada vez melhores modelo usado predizer resultados eleição corrente usando dados brutos joe biden apareceu vencedor larga vantagem após aplicar mecanismos correção dois vieses identificados vantagem diminuiu biden ainda indicado favorito parece desta vez algoritmos fato contribuindo predições precisas'"
            ]
          },
          "metadata": {},
          "execution_count": 34
        }
      ]
    },
    {
      "cell_type": "code",
      "metadata": {
        "id": "RH6ykNXfaZQM"
      },
      "source": [
        "import heapq\n",
        "def sumarizar(texto, porcent_resumo):\n",
        "  texto_original = texto\n",
        "  texto_formatado = pre_processamento(texto_original)\n",
        "\n",
        "  frequencia_palavras = nltk.FreqDist(nltk.word_tokenize(texto_formatado))\n",
        "  frequencia_maxima = max(frequencia_palavras.values())\n",
        "  for palavra in frequencia_palavras.keys():\n",
        "    frequencia_palavras[palavra] = (frequencia_palavras[palavra] / frequencia_maxima)\n",
        "  lista_sentencas = nltk.sent_tokenize(texto_original)\n",
        "  \n",
        "  nota_sentencas = {}\n",
        "  for sentenca in lista_sentencas:\n",
        "    for palavra in nltk.word_tokenize(sentenca):\n",
        "      if palavra in frequencia_palavras.keys():\n",
        "        if sentenca not in nota_sentencas.keys():\n",
        "          nota_sentencas[sentenca] = frequencia_palavras[palavra]\n",
        "        else:\n",
        "          nota_sentencas[sentenca] += frequencia_palavras[palavra]\n",
        "  melhores_sentencas = heapq.nlargest(int((porcent_resumo/100)*len(lista_sentencas)), nota_sentencas, key=nota_sentencas.get)\n",
        "  return lista_sentencas, melhores_sentencas, frequencia_palavras, nota_sentencas"
      ],
      "execution_count": 35,
      "outputs": []
    },
    {
      "cell_type": "code",
      "metadata": {
        "id": "VJ2u4sRlbMu_"
      },
      "source": [
        "lista_sentencas, melhores_sentencas, frequencia_palavras, nota_sentencas = sumarizar(artigo_original, 40)"
      ],
      "execution_count": 36,
      "outputs": []
    },
    {
      "cell_type": "code",
      "metadata": {
        "colab": {
          "base_uri": "https://localhost:8080/"
        },
        "id": "-q2hDAqjbY35",
        "outputId": "d398c3d3-72dd-4624-c3cd-7bcae2542385"
      },
      "source": [
        "lista_sentencas"
      ],
      "execution_count": 37,
      "outputs": [
        {
          "output_type": "execute_result",
          "data": {
            "text/plain": [
              "['Nas eleições presidenciais americanas de 2016, a maioria das predições apontavam para a vitória de Hillary Clinton.',\n",
              " 'Entretanto, a história nos mostrou o resultado oposto, e Donald Trump foi o presidente nos últimos 4 anos.',\n",
              " 'Desta vez, os estatísticos reexaminaram seus modelos, para aumentar o grau de confiabilidade nos seus resultados.',\n",
              " 'Nesta tentativa de otimização das predições, a inteligência artificial certamente não ficou de fora.',\n",
              " 'O modelo desenvolvido pelo Dr. Hernan Makse, físico estatístico da Universidade da Cidade de Nova York, baseou suas predições em uma rede neural treinada para processar os sentimentos expressos nas redes sociais.',\n",
              " 'O algoritmo fez a análise de cerca de 1 bilhão de tweets para chegar a uma estimativa dos resultados do pleito.',\n",
              " 'No dia da eleição, 3 de novembro, o modelo estava indicando a vitória de Joe Biden.',\n",
              " 'O Dr. Makse disse que seu trabalho começou já na eleição de 2016, e foi testado novamente nas eleições na Argentina ano passado.',\n",
              " 'Desta vez, o modelo está treinando com cerca de 5 vezes mais dados que nas eleições americanas anteriores.',\n",
              " 'O trabalho não depende apenas da coleta dos dados, mas também de um tratamento estatístico adequado para levar em consideração duas variáveis externas: o viés de amostragem e a taxa de comparecimento.',\n",
              " 'O primeiro fator se refere ao fato de que as redes sociais não necessariamente representam a população americana.',\n",
              " 'A participação em redes sociais costuma ser maior nas cidades grandes, que de fato têm preferência por um dos candidatos, e o modelo deve ser corrigido para levar em consideração também a opinião das pessoas que não são ativas neste ambiente virtual.',\n",
              " 'O segundo fator se deve à não-obrigatoriedade de votação nos Estados Unidos, ou seja, por mais que uma pessoa tenha sua preferência, pode ser que ela não compareça aos locais de votação para efetivá-la.',\n",
              " 'Segundo o Dr. Makse, integrar estas duas variáveis em seu modelo é a parte mais importante do trabalho.',\n",
              " 'Ele acredita ser esta uma das razões para que as estimativas da última eleição, baseadas em métodos tradicionais de coleta de informação, terem falhado.',\n",
              " 'Sua equipe acompanhou as tendências apresentadas nas últimas eleições na Europa, e os modelos estão se revelando cada vez melhores.',\n",
              " 'Quando seu modelo foi usado para predizer os resultados da eleição corrente usando dados brutos, Joe Biden apareceu como vencedor com larga vantagem.',\n",
              " 'Após aplicar os mecanismos de correção para os dois vieses identificados, a vantagem diminuiu, mas Biden ainda é indicado como favorito.',\n",
              " 'Parece que, desta vez, os algoritmos estão de fato contribuindo para que as predições sejam mais precisas.']"
            ]
          },
          "metadata": {},
          "execution_count": 37
        }
      ]
    },
    {
      "cell_type": "code",
      "metadata": {
        "colab": {
          "base_uri": "https://localhost:8080/"
        },
        "id": "tNxwneSlboHy",
        "outputId": "1fd352c0-c25a-4733-dd91-931e5b8daa06"
      },
      "source": [
        "melhores_sentencas"
      ],
      "execution_count": 38,
      "outputs": [
        {
          "output_type": "execute_result",
          "data": {
            "text/plain": [
              "['A participação em redes sociais costuma ser maior nas cidades grandes, que de fato têm preferência por um dos candidatos, e o modelo deve ser corrigido para levar em consideração também a opinião das pessoas que não são ativas neste ambiente virtual.',\n",
              " 'O trabalho não depende apenas da coleta dos dados, mas também de um tratamento estatístico adequado para levar em consideração duas variáveis externas: o viés de amostragem e a taxa de comparecimento.',\n",
              " 'O modelo desenvolvido pelo Dr. Hernan Makse, físico estatístico da Universidade da Cidade de Nova York, baseou suas predições em uma rede neural treinada para processar os sentimentos expressos nas redes sociais.',\n",
              " 'Quando seu modelo foi usado para predizer os resultados da eleição corrente usando dados brutos, Joe Biden apareceu como vencedor com larga vantagem.',\n",
              " 'Desta vez, o modelo está treinando com cerca de 5 vezes mais dados que nas eleições americanas anteriores.',\n",
              " 'O segundo fator se deve à não-obrigatoriedade de votação nos Estados Unidos, ou seja, por mais que uma pessoa tenha sua preferência, pode ser que ela não compareça aos locais de votação para efetivá-la.',\n",
              " 'Ele acredita ser esta uma das razões para que as estimativas da última eleição, baseadas em métodos tradicionais de coleta de informação, terem falhado.']"
            ]
          },
          "metadata": {},
          "execution_count": 38
        }
      ]
    },
    {
      "cell_type": "code",
      "metadata": {
        "colab": {
          "base_uri": "https://localhost:8080/"
        },
        "id": "TYg3hpBpbwR2",
        "outputId": "bc96b998-b732-4d97-e610-6eb1a7bc3d0e"
      },
      "source": [
        "frequencia_palavras"
      ],
      "execution_count": 39,
      "outputs": [
        {
          "output_type": "execute_result",
          "data": {
            "text/plain": [
              "FreqDist({'acompanhou': 0.16666666666666666,\n",
              "          'acredita': 0.16666666666666666,\n",
              "          'adequado': 0.16666666666666666,\n",
              "          'ainda': 0.16666666666666666,\n",
              "          'algoritmo': 0.16666666666666666,\n",
              "          'algoritmos': 0.16666666666666666,\n",
              "          'ambiente': 0.16666666666666666,\n",
              "          'americana': 0.16666666666666666,\n",
              "          'americanas': 0.3333333333333333,\n",
              "          'amostragem': 0.16666666666666666,\n",
              "          'ano': 0.16666666666666666,\n",
              "          'anos': 0.16666666666666666,\n",
              "          'anteriores': 0.16666666666666666,\n",
              "          'análise': 0.16666666666666666,\n",
              "          'apareceu': 0.16666666666666666,\n",
              "          'apenas': 0.16666666666666666,\n",
              "          'aplicar': 0.16666666666666666,\n",
              "          'apontavam': 0.16666666666666666,\n",
              "          'apresentadas': 0.16666666666666666,\n",
              "          'após': 0.16666666666666666,\n",
              "          'argentina': 0.16666666666666666,\n",
              "          'artificial': 0.16666666666666666,\n",
              "          'ativas': 0.16666666666666666,\n",
              "          'aumentar': 0.16666666666666666,\n",
              "          'baseadas': 0.16666666666666666,\n",
              "          'baseou': 0.16666666666666666,\n",
              "          'biden': 0.5,\n",
              "          'bilhão': 0.16666666666666666,\n",
              "          'brutos': 0.16666666666666666,\n",
              "          'cada': 0.16666666666666666,\n",
              "          'candidatos': 0.16666666666666666,\n",
              "          'cerca': 0.3333333333333333,\n",
              "          'certamente': 0.16666666666666666,\n",
              "          'chegar': 0.16666666666666666,\n",
              "          'cidade': 0.16666666666666666,\n",
              "          'cidades': 0.16666666666666666,\n",
              "          'clinton': 0.16666666666666666,\n",
              "          'coleta': 0.3333333333333333,\n",
              "          'começou': 0.16666666666666666,\n",
              "          'comparecimento': 0.16666666666666666,\n",
              "          'compareça': 0.16666666666666666,\n",
              "          'confiabilidade': 0.16666666666666666,\n",
              "          'consideração': 0.3333333333333333,\n",
              "          'contribuindo': 0.16666666666666666,\n",
              "          'corrente': 0.16666666666666666,\n",
              "          'correção': 0.16666666666666666,\n",
              "          'corrigido': 0.16666666666666666,\n",
              "          'costuma': 0.16666666666666666,\n",
              "          'dados': 0.5,\n",
              "          'depende': 0.16666666666666666,\n",
              "          'desenvolvido': 0.16666666666666666,\n",
              "          'desta': 0.5,\n",
              "          'deve': 0.3333333333333333,\n",
              "          'dia': 0.16666666666666666,\n",
              "          'diminuiu': 0.16666666666666666,\n",
              "          'disse': 0.16666666666666666,\n",
              "          'dois': 0.16666666666666666,\n",
              "          'donald': 0.16666666666666666,\n",
              "          'dr.': 0.5,\n",
              "          'duas': 0.3333333333333333,\n",
              "          'efetivá-la': 0.16666666666666666,\n",
              "          'eleição': 0.6666666666666666,\n",
              "          'eleições': 0.6666666666666666,\n",
              "          'entretanto': 0.16666666666666666,\n",
              "          'equipe': 0.16666666666666666,\n",
              "          'estados': 0.16666666666666666,\n",
              "          'estatístico': 0.3333333333333333,\n",
              "          'estatísticos': 0.16666666666666666,\n",
              "          'estimativa': 0.16666666666666666,\n",
              "          'estimativas': 0.16666666666666666,\n",
              "          'europa': 0.16666666666666666,\n",
              "          'expressos': 0.16666666666666666,\n",
              "          'externas': 0.16666666666666666,\n",
              "          'falhado': 0.16666666666666666,\n",
              "          'fato': 0.5,\n",
              "          'fator': 0.3333333333333333,\n",
              "          'favorito': 0.16666666666666666,\n",
              "          'fez': 0.16666666666666666,\n",
              "          'ficou': 0.16666666666666666,\n",
              "          'físico': 0.16666666666666666,\n",
              "          'grandes': 0.16666666666666666,\n",
              "          'grau': 0.16666666666666666,\n",
              "          'hernan': 0.16666666666666666,\n",
              "          'hillary': 0.16666666666666666,\n",
              "          'história': 0.16666666666666666,\n",
              "          'identificados': 0.16666666666666666,\n",
              "          'importante': 0.16666666666666666,\n",
              "          'indicado': 0.16666666666666666,\n",
              "          'indicando': 0.16666666666666666,\n",
              "          'informação': 0.16666666666666666,\n",
              "          'integrar': 0.16666666666666666,\n",
              "          'inteligência': 0.16666666666666666,\n",
              "          'joe': 0.3333333333333333,\n",
              "          'larga': 0.16666666666666666,\n",
              "          'levar': 0.3333333333333333,\n",
              "          'locais': 0.16666666666666666,\n",
              "          'maior': 0.16666666666666666,\n",
              "          'maioria': 0.16666666666666666,\n",
              "          'makse': 0.5,\n",
              "          'mecanismos': 0.16666666666666666,\n",
              "          'melhores': 0.16666666666666666,\n",
              "          'modelo': 1.0,\n",
              "          'modelos': 0.3333333333333333,\n",
              "          'mostrou': 0.16666666666666666,\n",
              "          'métodos': 0.16666666666666666,\n",
              "          'necessariamente': 0.16666666666666666,\n",
              "          'nesta': 0.16666666666666666,\n",
              "          'neste': 0.16666666666666666,\n",
              "          'neural': 0.16666666666666666,\n",
              "          'nova': 0.16666666666666666,\n",
              "          'novamente': 0.16666666666666666,\n",
              "          'novembro': 0.16666666666666666,\n",
              "          'não-obrigatoriedade': 0.16666666666666666,\n",
              "          'opinião': 0.16666666666666666,\n",
              "          'oposto': 0.16666666666666666,\n",
              "          'otimização': 0.16666666666666666,\n",
              "          'parece': 0.16666666666666666,\n",
              "          'parte': 0.16666666666666666,\n",
              "          'participação': 0.16666666666666666,\n",
              "          'passado': 0.16666666666666666,\n",
              "          'pessoa': 0.16666666666666666,\n",
              "          'pessoas': 0.16666666666666666,\n",
              "          'pleito': 0.16666666666666666,\n",
              "          'pode': 0.16666666666666666,\n",
              "          'população': 0.16666666666666666,\n",
              "          'precisas': 0.16666666666666666,\n",
              "          'predizer': 0.16666666666666666,\n",
              "          'predições': 0.6666666666666666,\n",
              "          'preferência': 0.3333333333333333,\n",
              "          'presidenciais': 0.16666666666666666,\n",
              "          'presidente': 0.16666666666666666,\n",
              "          'primeiro': 0.16666666666666666,\n",
              "          'processar': 0.16666666666666666,\n",
              "          'razões': 0.16666666666666666,\n",
              "          'rede': 0.16666666666666666,\n",
              "          'redes': 0.5,\n",
              "          'reexaminaram': 0.16666666666666666,\n",
              "          'refere': 0.16666666666666666,\n",
              "          'representam': 0.16666666666666666,\n",
              "          'resultado': 0.16666666666666666,\n",
              "          'resultados': 0.5,\n",
              "          'revelando': 0.16666666666666666,\n",
              "          'segundo': 0.3333333333333333,\n",
              "          'sentimentos': 0.16666666666666666,\n",
              "          'ser': 0.6666666666666666,\n",
              "          'sociais': 0.5,\n",
              "          'taxa': 0.16666666666666666,\n",
              "          'tendências': 0.16666666666666666,\n",
              "          'tentativa': 0.16666666666666666,\n",
              "          'terem': 0.16666666666666666,\n",
              "          'testado': 0.16666666666666666,\n",
              "          'trabalho': 0.5,\n",
              "          'tradicionais': 0.16666666666666666,\n",
              "          'tratamento': 0.16666666666666666,\n",
              "          'treinada': 0.16666666666666666,\n",
              "          'treinando': 0.16666666666666666,\n",
              "          'trump': 0.16666666666666666,\n",
              "          'tweets': 0.16666666666666666,\n",
              "          'têm': 0.16666666666666666,\n",
              "          'unidos': 0.16666666666666666,\n",
              "          'universidade': 0.16666666666666666,\n",
              "          'usado': 0.16666666666666666,\n",
              "          'usando': 0.16666666666666666,\n",
              "          'vantagem': 0.3333333333333333,\n",
              "          'variáveis': 0.3333333333333333,\n",
              "          'vencedor': 0.16666666666666666,\n",
              "          'vez': 0.6666666666666666,\n",
              "          'vezes': 0.16666666666666666,\n",
              "          'vieses': 0.16666666666666666,\n",
              "          'virtual': 0.16666666666666666,\n",
              "          'vitória': 0.3333333333333333,\n",
              "          'viés': 0.16666666666666666,\n",
              "          'votação': 0.3333333333333333,\n",
              "          'york': 0.16666666666666666,\n",
              "          'última': 0.16666666666666666,\n",
              "          'últimas': 0.16666666666666666,\n",
              "          'últimos': 0.16666666666666666})"
            ]
          },
          "metadata": {},
          "execution_count": 39
        }
      ]
    },
    {
      "cell_type": "code",
      "metadata": {
        "colab": {
          "base_uri": "https://localhost:8080/"
        },
        "id": "68knBIpacblW",
        "outputId": "5da00322-ce68-4394-eebf-352e6ab7042f"
      },
      "source": [
        "nota_sentencas"
      ],
      "execution_count": 40,
      "outputs": [
        {
          "output_type": "execute_result",
          "data": {
            "text/plain": [
              "{'A participação em redes sociais costuma ser maior nas cidades grandes, que de fato têm preferência por um dos candidatos, e o modelo deve ser corrigido para levar em consideração também a opinião das pessoas que não são ativas neste ambiente virtual.': 7.500000000000001,\n",
              " 'Após aplicar os mecanismos de correção para os dois vieses identificados, a vantagem diminuiu, mas Biden ainda é indicado como favorito.': 2.0,\n",
              " 'Desta vez, o modelo está treinando com cerca de 5 vezes mais dados que nas eleições americanas anteriores.': 3.9999999999999996,\n",
              " 'Desta vez, os estatísticos reexaminaram seus modelos, para aumentar o grau de confiabilidade nos seus resultados.': 2.3333333333333335,\n",
              " 'Ele acredita ser esta uma das razões para que as estimativas da última eleição, baseadas em métodos tradicionais de coleta de informação, terem falhado.': 3.3333333333333326,\n",
              " 'Entretanto, a história nos mostrou o resultado oposto, e Donald Trump foi o presidente nos últimos 4 anos.': 1.1666666666666665,\n",
              " 'Nas eleições presidenciais americanas de 2016, a maioria das predições apontavam para a vitória de Hillary Clinton.': 2.5,\n",
              " 'Nesta tentativa de otimização das predições, a inteligência artificial certamente não ficou de fora.': 1.666666666666667,\n",
              " 'No dia da eleição, 3 de novembro, o modelo estava indicando a vitória de Joe Biden.': 2.5,\n",
              " 'O Dr. Makse disse que seu trabalho começou já na eleição de 2016, e foi testado novamente nas eleições na Argentina ano passado.': 2.833333333333333,\n",
              " 'O algoritmo fez a análise de cerca de 1 bilhão de tweets para chegar a uma estimativa dos resultados do pleito.': 2.1666666666666665,\n",
              " 'O modelo desenvolvido pelo Dr. Hernan Makse, físico estatístico da Universidade da Cidade de Nova York, baseou suas predições em uma rede neural treinada para processar os sentimentos expressos nas redes sociais.': 4.499999999999999,\n",
              " 'O primeiro fator se refere ao fato de que as redes sociais não necessariamente representam a população americana.': 2.8333333333333326,\n",
              " 'O segundo fator se deve à não-obrigatoriedade de votação nos Estados Unidos, ou seja, por mais que uma pessoa tenha sua preferência, pode ser que ela não compareça aos locais de votação para efetivá-la.': 3.666666666666666,\n",
              " 'O trabalho não depende apenas da coleta dos dados, mas também de um tratamento estatístico adequado para levar em consideração duas variáveis externas: o viés de amostragem e a taxa de comparecimento.': 4.500000000000001,\n",
              " 'Parece que, desta vez, os algoritmos estão de fato contribuindo para que as predições sejam mais precisas.': 2.833333333333333,\n",
              " 'Quando seu modelo foi usado para predizer os resultados da eleição corrente usando dados brutos, Joe Biden apareceu como vencedor com larga vantagem.': 4.333333333333332,\n",
              " 'Segundo o Dr. Makse, integrar estas duas variáveis em seu modelo é a parte mais importante do trabalho.': 2.6666666666666665,\n",
              " 'Sua equipe acompanhou as tendências apresentadas nas últimas eleições na Europa, e os modelos estão se revelando cada vez melhores.': 2.9999999999999996}"
            ]
          },
          "metadata": {},
          "execution_count": 40
        }
      ]
    },
    {
      "cell_type": "code",
      "metadata": {
        "id": "XEHelL-tc3Nh"
      },
      "source": [
        "def visualiza_resumo(titulo, lista_sentencas, melhores_sentencas):\n",
        "  from IPython.core.display import HTML\n",
        "  texto = ''\n",
        "\n",
        "  display(HTML(f'<h1>Resumo do texto - {titulo}</h1>'))\n",
        "  for i in lista_sentencas:\n",
        "    if i in melhores_sentencas:\n",
        "      texto += str(i).replace(i, f\"<mark>{i}</mark>\")\n",
        "    else:\n",
        "      texto += i\n",
        "  display(HTML(f\"\"\" {texto} \"\"\"))"
      ],
      "execution_count": 41,
      "outputs": []
    },
    {
      "cell_type": "code",
      "metadata": {
        "colab": {
          "base_uri": "https://localhost:8080/",
          "height": 283
        },
        "id": "6WteYBEhdIqV",
        "outputId": "5cb633a4-23f0-458f-9c3f-71b13bab98d0"
      },
      "source": [
        "visualiza_resumo('Eleições', lista_sentencas, melhores_sentencas)"
      ],
      "execution_count": 42,
      "outputs": [
        {
          "output_type": "display_data",
          "data": {
            "text/html": [
              "<h1>Resumo do texto - Eleições</h1>"
            ],
            "text/plain": [
              "<IPython.core.display.HTML object>"
            ]
          },
          "metadata": {}
        },
        {
          "output_type": "display_data",
          "data": {
            "text/html": [
              " Nas eleições presidenciais americanas de 2016, a maioria das predições apontavam para a vitória de Hillary Clinton.Entretanto, a história nos mostrou o resultado oposto, e Donald Trump foi o presidente nos últimos 4 anos.Desta vez, os estatísticos reexaminaram seus modelos, para aumentar o grau de confiabilidade nos seus resultados.Nesta tentativa de otimização das predições, a inteligência artificial certamente não ficou de fora.<mark>O modelo desenvolvido pelo Dr. Hernan Makse, físico estatístico da Universidade da Cidade de Nova York, baseou suas predições em uma rede neural treinada para processar os sentimentos expressos nas redes sociais.</mark>O algoritmo fez a análise de cerca de 1 bilhão de tweets para chegar a uma estimativa dos resultados do pleito.No dia da eleição, 3 de novembro, o modelo estava indicando a vitória de Joe Biden.O Dr. Makse disse que seu trabalho começou já na eleição de 2016, e foi testado novamente nas eleições na Argentina ano passado.<mark>Desta vez, o modelo está treinando com cerca de 5 vezes mais dados que nas eleições americanas anteriores.</mark><mark>O trabalho não depende apenas da coleta dos dados, mas também de um tratamento estatístico adequado para levar em consideração duas variáveis externas: o viés de amostragem e a taxa de comparecimento.</mark>O primeiro fator se refere ao fato de que as redes sociais não necessariamente representam a população americana.<mark>A participação em redes sociais costuma ser maior nas cidades grandes, que de fato têm preferência por um dos candidatos, e o modelo deve ser corrigido para levar em consideração também a opinião das pessoas que não são ativas neste ambiente virtual.</mark><mark>O segundo fator se deve à não-obrigatoriedade de votação nos Estados Unidos, ou seja, por mais que uma pessoa tenha sua preferência, pode ser que ela não compareça aos locais de votação para efetivá-la.</mark>Segundo o Dr. Makse, integrar estas duas variáveis em seu modelo é a parte mais importante do trabalho.<mark>Ele acredita ser esta uma das razões para que as estimativas da última eleição, baseadas em métodos tradicionais de coleta de informação, terem falhado.</mark>Sua equipe acompanhou as tendências apresentadas nas últimas eleições na Europa, e os modelos estão se revelando cada vez melhores.<mark>Quando seu modelo foi usado para predizer os resultados da eleição corrente usando dados brutos, Joe Biden apareceu como vencedor com larga vantagem.</mark>Após aplicar os mecanismos de correção para os dois vieses identificados, a vantagem diminuiu, mas Biden ainda é indicado como favorito.Parece que, desta vez, os algoritmos estão de fato contribuindo para que as predições sejam mais precisas. "
            ],
            "text/plain": [
              "<IPython.core.display.HTML object>"
            ]
          },
          "metadata": {}
        }
      ]
    },
    {
      "cell_type": "markdown",
      "metadata": {
        "id": "9FuLiqlkqP-V"
      },
      "source": [
        "## Sumarização de mais textos"
      ]
    },
    {
      "cell_type": "code",
      "metadata": {
        "id": "DjnIZwpNe85B"
      },
      "source": [
        "lista_artigos = ['https://computerworld.com.br/carreira/python-10-motivos-para-aprender-a-linguagem-em-2019/',\n",
        "                 'https://super.abril.com.br/tecnologia/afinal-o-que-sao-deepfakes/',\n",
        "                 'https://blog.cronapp.io/algoritmos-de-machine-learning/']\n",
        "                #  'https://iaexpert.academy/2020/11/16/automl-aspectos-aplicacoes/']"
      ],
      "execution_count": 47,
      "outputs": []
    },
    {
      "cell_type": "code",
      "metadata": {
        "colab": {
          "base_uri": "https://localhost:8080/",
          "height": 1000
        },
        "id": "woglfEn5fLLk",
        "outputId": "f2e95d85-efa3-45a2-cc94-afe1a3536324"
      },
      "source": [
        "for url in lista_artigos:\n",
        "  g = Goose()\n",
        "  artigo = g.extract(url)\n",
        "  lista_sentencas, melhores_sentencas, _, _ = sumarizar(artigo.cleaned_text, 40)\n",
        "  visualiza_resumo(artigo.title, lista_sentencas, melhores_sentencas)"
      ],
      "execution_count": 48,
      "outputs": [
        {
          "output_type": "display_data",
          "data": {
            "text/html": [
              "<h1>Resumo do texto - Python: 10 motivos para aprender a linguagem em 2019</h1>"
            ],
            "text/plain": [
              "<IPython.core.display.HTML object>"
            ]
          },
          "metadata": {}
        },
        {
          "output_type": "display_data",
          "data": {
            "text/html": [
              " O Python é uma linguagem de programação de alto nível e muito versátil.Ela suporta tanto a programação orientada a objetos quanto a programação estruturada.<mark>Com Python, você pode acessar bibliotecas nativas que oferecem funcionalidades para desenvolvimento de projetos e implementação de aplicações complexas.</mark>A tecnologia está presente nos códigos do Instagram, Netflix, Spotify, Reddit, Facebook, Google e muitos outros.<mark>Desenvolvida pelo matemático holandês Guido van Rossum, atualmente a linguagem faz parte de um modelo de desenvolvimento comunitário, gerenciado pela organização sem fins lucrativos Python Software Foundation.</mark><mark>Lançada no começo dos anos 1090, a linguagem tem ganhado crescente notoriedade nos últimos anos, tornando-se uma das mais populares entre programadores, principalmente pela sua funcionalidade com dados, big data e inteligência artificial.</mark>Pensando em todo o seu potencial para a sua carreira, na lista abaixo, a redação do IT Trends separou 10 motivos para aprender Python em 2019.O IEEE Spectrum 2018, ranking anual das principais linguagens de programação, definiu o Python como uma das linguagens mais usadas entre programadores e projetos.2.<mark>Conhecimentos em Python são exigidos por muitas vagas\n",
              "\n",
              "Embora Python seja uma linguagem extremamente popular, ainda faltam desenvolvedores com conhecimento da tecnologia no mercado de trabalho.</mark>Saber Python pode não só contar como critério de desempate, como também é um conhecimento muito valorizado por empresas, principalmente para posições de desenvolvedor full-stack.<mark>Há mais de 125.000 bibliotecas Python de terceiros que tornam a linguagem extremamente popular em diversos campos do desenvolvimento web, configuração de nuvem, análise de dados, machine learning e inteligência artificial.</mark>Sua versatilidade reforça a sua quase onipresença atual.<mark>Dentro do universo da ciência de dados, Python é a linguagem mais popular entre os cientistas, analistas e pesquisadores.</mark><mark>Um dos principais motivos é que ela fornece muitas bibliotecas e estruturas para a análise de dados, como PyBrain, NumPy, SymPy, PyMySQL, Pandas e outros.</mark><mark>Todas essas bibliotecas são dedicadas para o desenvolvimento de algoritmos, coleta e análise de dados.</mark><mark>Além de muito usada na ciência de dados, há também muitas bibliotecas eficientes na programação de inteligência artificial e machine learning.</mark>Theano, Scikit-learn, Tensorflow estão entre os módulos mais usados para algoritmos de machine learning.Já o Keras, é uma biblioteca de rede neural open source dedicada para aplicações de inteligência artificial.<mark>Mesmo com características muito técnicas, Python é bastante útil e popular entre desenvolvedores web, pois também possui bibliotecas e estruturas específicas para o desenvolvimento de páginas web, como Django, web2py, Flask, bottle.py, CherryPy, Pyramid e outros.</mark>As aplicações Mozilla, Reddit, Spotify, Yelp foram desenvolvidas com ajuda de bibliotecas em Python.Sistemas como Windows, MacOs, distribuições Linux (incluindo Raspberry PI), Solaris, Unix e até FreeBSD conseguem operar programas em Python, se um sistema não roda Python de forma nativa é possível instalar a tecnologia.Veja as opções de sistemas alternativos que suportam a tecnologia aqui.<mark>Há muito conteúdo sobre a linguagem criado por usuários como, documentação, Python Wiki, Fóruns, cursos gratuitos e tutoriais, sendo assim, é possível encontrar praticamente qualquer resposta para suas dúvidas relacionadas à tecnologia em canais oficiais da linguagem.</mark>Python também é muito utilizado para criar interfaces gráficas de usuário (GUI).Tkinter é a interface de usuário (GUI) padrão da tecnologia, que foi usada na criação da GUI nativa do MaC OS X, distribuições Linux e Windows.<mark>Além de uma poderosa linguagem de programação, capaz de fazer uma variedade de programas complexos, Python também pode ser usado como uma linguagem de scripts.</mark>Um script feito em Python pode automatizar diferentes tarefas que reduzem o tempo de processos, economizando energia e em alguns casos até dinheiro.Agora você já sabe os motivos para aprender Python.Mas por onde começar a aprender a linguagem?Reunimos em outra matéria, algumas opções para uma imersão inicial e, o melhor, você não precisa sair de casa para aprender.Acesse a lista aqui. "
            ],
            "text/plain": [
              "<IPython.core.display.HTML object>"
            ]
          },
          "metadata": {}
        },
        {
          "output_type": "display_data",
          "data": {
            "text/html": [
              "<h1>Resumo do texto - O que são deepfakes?</h1>"
            ],
            "text/plain": [
              "<IPython.core.display.HTML object>"
            ]
          },
          "metadata": {}
        },
        {
          "output_type": "display_data",
          "data": {
            "text/html": [
              " Em janeiro de 2020, o Facebook anunciou que iria começar a banir vídeos com deepfake da sua plataforma.O anúncio, divulgado em um blog da empresa, afirmou que conteúdos do tipo manipulam a realidade, e são um grande desafio para a indústria tecnológica.Os vídeos são excluídos caso as edições não estejam óbvias para o usuário ou se levarem o espectador a acreditar que uma pessoa tenha dito coisas que, na verdade, nunca disseram.<mark>55 checadores, que falam 45 idiomas diferentes, são os responsáveis por analisar e sinalizar os vídeos falsos – a medida não inclui sátiras e outros produções humorísticas.</mark>Antes disso, em setembro de 2019, a empresa doou US$ 10 milhões para um fundo voltado a aprimorar as tecnologias de detecção desse tipo de material.Mas a companhia já também recebeu críticas por se recusar a retirar um vídeo falso da presidente da Câmara dos Deputados dos EUA, Nancy Pelosi, que viralizou no país no ano passado.Deepfakes podem ser inofensivos.Neste vídeo, por exemplo, o rosto do ator Harrison Ford foi rejuvenescido e colocado em algumas cenas de Solo: Uma História Star Wars, do qual ele não participou.Mas, em muitos casos, podem ser perigosos e aumentar a desinformação, como manipular discursos de personalidades e chefes de Estado.Até o próprio Mark Zuckerberg já foi vítima dos softwares de deepfake.No vídeo, o presidente do Facebook, em uma versão criada em computador, afirmava que o sucesso de sua plataforma era devido a uma parceria feita com uma organização secreta.Mas afinal, o que são deepfakes?<mark>Os deepfakes nada mais são do que vídeos criados a partir de inteligência artificial e que reproduzem a aparência, as expressões e até a voz de alguém do mundo real.</mark><mark>O nome vem da junção de duas expressões em inglês: “deep learning” (“aprendizado profundo”) e “fake” (“falso”).</mark>Aprendizado o quê?<mark>O “deep learning” é uma evolução das metodologias de aperfeiçoamento de inteligência artificial.</mark><mark>Ela deriva do “machine learning”.</mark>O conceito, que veio junto com os primeiros avanços em inteligência artificial, nos anos 1950, quer dizer, literalmente, colocar um computador para aprender.A ideia é fazer o cérebro eletrônico estudar algoritmos até que entenda como ler dados e tomar decisões acertadas.É como se, vendo um mesmo filme várias vezes, ele pudesse reproduzir o que aprendeu fazendo uma história totalmente nova.A técnica possui várias aplicações, de um programa de recomendação de filmes e séries (alô, Netflix) aos vídeos manipulados.<mark>“Os deepfakes surgiram nos anos 1990, ganharam fama por volta de 2014 e atingiram um pico de popularidade em 2017″, explica Hao Li, professor de Ciência da Computação na Universidade do Sul da Califórnia.</mark>Em dezembro do ano passado, ele participou da VFXRio, evento brasileiro sobre tecnologia e efeitos visuais.Como eles são feitos?Hao é um dos precursores da área, e trabalha há 15 anos no desenvolvimento de tecnologias que aumentem o realismo das projeções virtuais.Ele já atuou em empresas de efeitos visuais como a Weta Digital (de filmes como O Senhor dos Anéis) e a Industrial Light & Magic (Star Wars), além de comandar uma startup especializada em criar avatares do tipo.No geral, os deepfakes são criados em duas etapas.Na primeira, o software capta imagens de referência da pessoa que será usada no vídeo (o presidente Donald Trump, por exemplo).Quanto mais imagens, maior será a precisão.<mark>“O ideal é criar um banco de dados com várias formas e ângulos do rosto”, diz Hao.</mark>Depois, é a vez de gravar os movimentos de uma segunda pessoa, que será a base (ou o molde) para o deepfake.<mark>Por fim, a inteligência artificial tem a missão de unir as duas coisas para criar o vídeo falso.</mark><mark>No exemplo abaixo (cujo vídeo você pode conferir clicando na imagem), as imagens captadas de Trump foram inseridas no molde, feito a partir do vídeo de imitação:\n",
              "\n",
              "No passado, a manipulação de rostos digitais era uma técnica restrita a profissionais de efeitos visuais.</mark>A ideia do deepfake é que, com inteligência artificial, todo o trabalho seja feito por meio de softwares.<mark>Um programa da Samsung, por exemplo, consegue criar vídeos falsos com apenas uma imagem de referência.</mark>Já o Zao é um app chinês que faz com que o seu rosto seja transportado para uma cena de filme ou série – basta tirar uma selfie.A aplicação mais famosa para este tipo de manipulação são os efeitos cinematográficos.Em 2019, filmes como Projeto Gemini e O Irlandês usaram técnicas similares para rejuvenescer os atores.Gemini, em especial, criou uma versão mais jovem do ator Will Smith, que contracenou com sua versão mais velha, de carne e osso.<mark>“Os deepfakes podem ser usados também em dispositivos de realidade virtual, ou para criar sistemas de chats com interações mais realistas”, lembra Hao.</mark><mark>A Fundação Carnegie, em um vídeo sobre o tema, diz que a tecnologia também pode ser usada para dar acessibilidade a pessoas com esclerose lateral amiotrófica, permitindo que pacientes criem cópias digitais da sua voz para ajudá-los quando não conseguirem mais falar.</mark>A alta na popularidade dos deepfakes em 2017 apontada por Hao tem motivo.<mark>Naquele ano, um usuário do fórum Reddit criou um software de deep learing que permitia ao usuário trocar o rosto de uma atriz de filme pornô pelo de celebridades.</mark>O programa analisava milhares de imagens de atrizes, modelos e cantoras para criar um padrão de rosto para cada uma.Depois, era só jogar no video desejado e ter um filme protagonizado por quem quer que fosse.<mark>A partir daí, diversas campanhas surgiram para alertar sobre os perigos da tecnologia, que se tornou uma espécie de versão turbinada das já conhecidas fake news (“notícias falsas”, em inglês).</mark><mark>Esta aqui, por exemplo, foi feita pelo BuzzFeed, e é “estrelada” por uma versão falsa do ex-presidente dos EUA Barack Obama.</mark><mark>Os vídeos falsos, então, possuem uma série de maus usos: eles podem humilhar, chantagear ou difamar alguém, atacar organizações, incitar violência política, cancelar acordos diplomáticos e até fraudar eleições.</mark><mark>Apesar do desenvolvimento até aqui, vamos que combinar que, olhando com atenção, mesmo os vídeos falsos falsos mais convincentes conseguem ser desmascarados.</mark><mark>Em setembro de 2019, Hao deu uma entrevista ao canal norte-americano CNBC, em que afirmava que deepfakes “perfeitamente reais” começariam a surgir dali a seis meses.</mark><mark>“Eu mantenho essa previsão e digo mais: isso já está acontecendo.”\n",
              "\n",
              "Para o professor, o grande entrave dos deepfakes é a resolução: em baixa qualidade, eles podem confundir, mas quando a resolução aumenta, as imperfeições ficam expostas.</mark><mark>“No entanto, já existem pesquisas em desenvolvimento para criar deepfakes em alta definição”, disse Hao.</mark>Ele cita um teste feito pelo sua própria empresa, a Pinscreen – também com Donald Trump, feita a partir de uma imitação do ator Alec Baldwin.<mark>Veja abaixo:\n",
              "\n",
              "Em meio a isso, surge o debate: se os deepfakes podem ser tão perigosos, eles não deveriam ser proibidos?</mark><mark>“Eu sou contra a generalização, e acho que nem tudo deve ser proibido”, defende Hao, que traz como exemplo o seu trabalho no filme Velozes e Furiosos 7, no qual ele foi um dos responsáveis pela reencenação digital do ator Paul Walker, que morreu durante as gravações.</mark>“A família de Paul estava de acordo e ajudou durante o processo.Tudo foi feito como uma forma de homenageá-lo – e funcionou”.<mark>A tecnologia dos vídeos falsos evolui em uma velocidade muito maior que a lei – o que impede a criação de uma única norma que os regule.</mark><mark>Dessa forma, Hao, assim como boa parte dos especialistas, defende que mais de uma medida deve ser tomada em relação os deepfakes.</mark><mark>“O ideal seria que os países criassem organizações que digam o que é aceitável e o que deve ser proibido.” Deepfakes em vídeos pornôs, nem pensar.</mark>Além disso, é preciso aprimorar os algoritmos e técnicas de reconhecimento de vídeos falsos, o que facilitaria o combate a conteúdos nocivos.Projetos de lei que determinem os parâmetros para o compartilhamento também poderão ajudar plataformas de mídias sociais a atualizar suas políticas internas.Se organizar direito, ninguém cai em mentira. "
            ],
            "text/plain": [
              "<IPython.core.display.HTML object>"
            ]
          },
          "metadata": {}
        },
        {
          "output_type": "display_data",
          "data": {
            "text/html": [
              "<h1>Resumo do texto - Algoritmos de machine learning: descubra os impactos na sua empresa!</h1>"
            ],
            "text/plain": [
              "<IPython.core.display.HTML object>"
            ]
          },
          "metadata": {}
        },
        {
          "output_type": "display_data",
          "data": {
            "text/html": [
              " O avanço das tecnologias, sem dúvidas, significou um divisor de águas para o mundo empresarial, promovendo maior eficiência em todos setores.<mark>Para quem imaginou que a evolução já tinha chegado ao seu limite, os algoritmos de machine learning estão aí para provar que as máquinas não são capazes apenas de executar tarefas automatizadas — hoje, elas estão em um processo contínuo de aprendizado.</mark>Quer entender como essa ferramenta pode influenciar os resultados da sua empresa?<mark>Neste post, você vai conhecer 6 dos principais algoritmos de machine learning.</mark>Confira!O que é o machine learning e como funciona?<mark>O machine learning — ou, simplesmente, aprendizado de máquina, como pode ser traduzido para o português — consiste no poderoso sistema em que os equipamentos conseguem reproduzir a capacidade de raciocínio do ser humano.</mark><mark>A partir da combinação de algoritmos e big data, a ferramenta realiza a análise de grandes volumes de dados, cria padrões, estabelece conexões e aprende a executar tarefas de forma inteligente, sem a intervenção do homem.</mark><mark>Nesse contexto, é importante destacar que a tecnologia pode ser dividida em duas categorias principais — a supervisionada e a não supervisionada.</mark><mark>Classificamos como algoritmos supervisionados aqueles que dependem da intervenção do homem para controlar a entrada e saída de dados, bem como o treinamento das máquinas.</mark><mark>Já na modalidade não supervisionada, o processamento das atividades, desde as mais simples até as mais complexas, é efetuado com o auxílio do deep learning.</mark><mark>Embora façam parte de uma mesma tecnologia, os algoritmos de machine learning são construídos por diferentes sistemas e podem apresentar funções diversificadas.</mark>Conheça os principais deles.<mark>A árvore de decisão é um tipo de algoritmo de apoio, cuja dinâmica de funcionamento é baseada em um gráfico ou modelo de decisões alinhado com as suas possíveis consequências.</mark>Além disso, o sistema de árvore leva em consideração resultados de eventos fortuitos, os custos e utilidades dos recursos.Sob a ótica da tomada de decisões de um negócio, a árvore de decisões é representada por um número mínimo de perguntas.Com base nas respostas, avalia-se a probabilidade de tomar decisões acertadas.O objetivo desse método é abordar a sistemática dos problemas, a fim de que se chegue à conclusão mais lógica possível.<mark>A técnica de regressão visa prever algo contínuo e numérico, para que se possa identificar oscilações entre os valores esperados, e ela pode ser feita de maneiras distintas.</mark><mark>A regressão linear diz respeito ao modelo utilizado para ajustar dados e observar a relação entre um alvo e um indicador em linha reta.</mark>Os mínimos quadrados, por outro lado, consistem no tipo de métrica de erro que está sendo minimizado.<mark>Para tanto, traça-se uma linha reta, e cada dado é representado por um ponto ao longo da linha; eles podem estar acima ou abaixo dela.</mark>Então, mede-se a distância vertical entre os pontos e a linha, e, depois, elas são somadas.Como resultado, a posição ideal da linha é aquela em que a distância é a menor possível.O Support Vector Machine (SVM) é um algoritmo binário de classificação.A metodologia é utilizada quando preciso desmembrar dois tipos de situações, que são linearmente separáveis.Com essa escala, podemos resolver diversos tipos de problemas.<mark>O SVM já foi aproveitado, por exemplo, para reconhecimento de site de splice humano, detecção de gênero a partir de imagens, publicidades em displays, entre outras tarefas mais complexas.</mark>A regressão logística é o algoritmo voltado para a medir a relação entre uma variável categórica e outras variáveis independentes.Uma forma estatística para modelar resultados binomiais.<mark>Na prática, esse poderoso algoritmo pode ser empregado em aplicações reais, como:\n",
              "\n",
              "Baseada no Teorema de Bayes, essa técnica considera que todas as características contribuem de maneira independente para determinada resposta, ainda que umas dependam das outras.</mark>Trata-se de um método de classificação calculado por meio de probabilidades.É a ferramenta que agrupa objetos de acordo com os aspectos apresentados em comum.<mark>Portanto, cada algoritmo de agrupamento sempre será diferente — podemos encontrar algoritmos de conectividade, de redes neurais, de densidade etc.</mark><mark>Os recursos do machine learning vêm sendo cada vez mais utilizados nos mais variados tipos de empreendimento e, basicamente, em todos os setores de uma organização.</mark>E não é difícil entender o motivo: o gerenciamento e análise de dados leva a uma melhor estruturação de processos.O controle eficiente da cadeia de suprimentos, é um belo exemplo de como essa inovação vem sendo implementada para superar as expectativas de resultados.<mark>Prever demandas futuras é um dos grandes desafios para o setor de estoque, porém o machine learning tem provado que é possível detectar padrões de consumo futuros.</mark><mark>Outro ponto relevante que também está sendo aperfeiçoado com a tecnologia é a interação com os clientes — com a aprendizagem de máquina, os serviços de atendimento conseguem solucionar questões de maneira ágil e satisfatória, contatando os especialistas apenas quando necessário.</mark>Isso gera uma experiência positiva para o público-alvo.De um modo geral, a capacidade de rastrear e analisar informações é também uma forma de garantir aos gestores os elementos necessários para tomar as melhores decisões.Diante de uma nova era tecnológica, o conhecimento profundo sobre dados que são colhidos nas interações com o mercado representa uma peça-chave para ganhar competitividade.<mark>Nesse sentido, os algoritmos de machine learning se mostram uma excelente estratégia para iniciar o processo de transformação digital na sua empresa.</mark>A tarefa não é simples, porém buscar auxílio nas fontes certas pode facilitar bastante esse desenvolvimento.Para os que ainda se sentem inseguros, o blog do Cronapp é uma excelente fonte de informações sobre o uso de tecnologia nas empresas.Gostou do artigo?O que acha de continuar aprendendo sobre tecnologias que podem revolucionar o desempenho do seu negócio?Então, assine a nossa newsletter para receber novidades quentinhas diretamente no seu e-mail. "
            ],
            "text/plain": [
              "<IPython.core.display.HTML object>"
            ]
          },
          "metadata": {}
        }
      ]
    },
    {
      "cell_type": "markdown",
      "metadata": {
        "id": "XfjD0iDBrhFv"
      },
      "source": [
        "# Considerando lematização"
      ]
    },
    {
      "cell_type": "code",
      "metadata": {
        "id": "xiw65a2XJxu4",
        "colab": {
          "base_uri": "https://localhost:8080/"
        },
        "outputId": "61a35c00-ec49-4494-ec0c-2a3f5a05db5e"
      },
      "source": [
        "!pip install spacy==2.2.3"
      ],
      "execution_count": 49,
      "outputs": [
        {
          "output_type": "stream",
          "name": "stdout",
          "text": [
            "Collecting spacy==2.2.3\n",
            "  Downloading spacy-2.2.3-cp37-cp37m-manylinux1_x86_64.whl (10.4 MB)\n",
            "\u001b[K     |████████████████████████████████| 10.4 MB 4.9 MB/s \n",
            "\u001b[?25hRequirement already satisfied: blis<0.5.0,>=0.4.0 in /usr/local/lib/python3.7/dist-packages (from spacy==2.2.3) (0.4.1)\n",
            "Requirement already satisfied: preshed<3.1.0,>=3.0.2 in /usr/local/lib/python3.7/dist-packages (from spacy==2.2.3) (3.0.6)\n",
            "Requirement already satisfied: numpy>=1.15.0 in /usr/local/lib/python3.7/dist-packages (from spacy==2.2.3) (1.19.5)\n",
            "Requirement already satisfied: requests<3.0.0,>=2.13.0 in /usr/local/lib/python3.7/dist-packages (from spacy==2.2.3) (2.23.0)\n",
            "Requirement already satisfied: plac<1.2.0,>=0.9.6 in /usr/local/lib/python3.7/dist-packages (from spacy==2.2.3) (1.1.3)\n",
            "Requirement already satisfied: cymem<2.1.0,>=2.0.2 in /usr/local/lib/python3.7/dist-packages (from spacy==2.2.3) (2.0.6)\n",
            "Requirement already satisfied: srsly<1.1.0,>=0.1.0 in /usr/local/lib/python3.7/dist-packages (from spacy==2.2.3) (1.0.5)\n",
            "Requirement already satisfied: wasabi<1.1.0,>=0.4.0 in /usr/local/lib/python3.7/dist-packages (from spacy==2.2.3) (0.8.2)\n",
            "Requirement already satisfied: setuptools in /usr/local/lib/python3.7/dist-packages (from spacy==2.2.3) (57.4.0)\n",
            "Requirement already satisfied: murmurhash<1.1.0,>=0.28.0 in /usr/local/lib/python3.7/dist-packages (from spacy==2.2.3) (1.0.6)\n",
            "Requirement already satisfied: catalogue<1.1.0,>=0.0.7 in /usr/local/lib/python3.7/dist-packages (from spacy==2.2.3) (1.0.0)\n",
            "Collecting thinc<7.4.0,>=7.3.0\n",
            "  Downloading thinc-7.3.1-cp37-cp37m-manylinux1_x86_64.whl (2.2 MB)\n",
            "\u001b[K     |████████████████████████████████| 2.2 MB 45.0 MB/s \n",
            "\u001b[?25hRequirement already satisfied: importlib-metadata>=0.20 in /usr/local/lib/python3.7/dist-packages (from catalogue<1.1.0,>=0.0.7->spacy==2.2.3) (4.8.2)\n",
            "Requirement already satisfied: typing-extensions>=3.6.4 in /usr/local/lib/python3.7/dist-packages (from importlib-metadata>=0.20->catalogue<1.1.0,>=0.0.7->spacy==2.2.3) (3.10.0.2)\n",
            "Requirement already satisfied: zipp>=0.5 in /usr/local/lib/python3.7/dist-packages (from importlib-metadata>=0.20->catalogue<1.1.0,>=0.0.7->spacy==2.2.3) (3.6.0)\n",
            "Requirement already satisfied: certifi>=2017.4.17 in /usr/local/lib/python3.7/dist-packages (from requests<3.0.0,>=2.13.0->spacy==2.2.3) (2021.10.8)\n",
            "Requirement already satisfied: chardet<4,>=3.0.2 in /usr/local/lib/python3.7/dist-packages (from requests<3.0.0,>=2.13.0->spacy==2.2.3) (3.0.4)\n",
            "Requirement already satisfied: urllib3!=1.25.0,!=1.25.1,<1.26,>=1.21.1 in /usr/local/lib/python3.7/dist-packages (from requests<3.0.0,>=2.13.0->spacy==2.2.3) (1.24.3)\n",
            "Requirement already satisfied: idna<3,>=2.5 in /usr/local/lib/python3.7/dist-packages (from requests<3.0.0,>=2.13.0->spacy==2.2.3) (2.10)\n",
            "Requirement already satisfied: tqdm<5.0.0,>=4.10.0 in /usr/local/lib/python3.7/dist-packages (from thinc<7.4.0,>=7.3.0->spacy==2.2.3) (4.62.3)\n",
            "Installing collected packages: thinc, spacy\n",
            "  Attempting uninstall: thinc\n",
            "    Found existing installation: thinc 7.4.0\n",
            "    Uninstalling thinc-7.4.0:\n",
            "      Successfully uninstalled thinc-7.4.0\n",
            "  Attempting uninstall: spacy\n",
            "    Found existing installation: spacy 2.2.4\n",
            "    Uninstalling spacy-2.2.4:\n",
            "      Successfully uninstalled spacy-2.2.4\n",
            "Successfully installed spacy-2.2.3 thinc-7.3.1\n"
          ]
        }
      ]
    },
    {
      "cell_type": "code",
      "metadata": {
        "id": "ZHO-HkYrr3vM"
      },
      "source": [
        "import spacy"
      ],
      "execution_count": 50,
      "outputs": []
    },
    {
      "cell_type": "code",
      "metadata": {
        "id": "orb1NtS7r3C7",
        "colab": {
          "base_uri": "https://localhost:8080/"
        },
        "outputId": "3260e2e4-7168-4a7e-d4e6-db3f7cbbcdd5"
      },
      "source": [
        "!python -m spacy download pt"
      ],
      "execution_count": 51,
      "outputs": [
        {
          "output_type": "stream",
          "name": "stdout",
          "text": [
            "Collecting pt_core_news_sm==2.2.5\n",
            "  Downloading https://github.com/explosion/spacy-models/releases/download/pt_core_news_sm-2.2.5/pt_core_news_sm-2.2.5.tar.gz (21.2 MB)\n",
            "\u001b[K     |████████████████████████████████| 21.2 MB 1.2 MB/s \n",
            "\u001b[?25hRequirement already satisfied: spacy>=2.2.2 in /usr/local/lib/python3.7/dist-packages (from pt_core_news_sm==2.2.5) (2.2.3)\n",
            "Requirement already satisfied: cymem<2.1.0,>=2.0.2 in /usr/local/lib/python3.7/dist-packages (from spacy>=2.2.2->pt_core_news_sm==2.2.5) (2.0.6)\n",
            "Requirement already satisfied: murmurhash<1.1.0,>=0.28.0 in /usr/local/lib/python3.7/dist-packages (from spacy>=2.2.2->pt_core_news_sm==2.2.5) (1.0.6)\n",
            "Requirement already satisfied: preshed<3.1.0,>=3.0.2 in /usr/local/lib/python3.7/dist-packages (from spacy>=2.2.2->pt_core_news_sm==2.2.5) (3.0.6)\n",
            "Requirement already satisfied: wasabi<1.1.0,>=0.4.0 in /usr/local/lib/python3.7/dist-packages (from spacy>=2.2.2->pt_core_news_sm==2.2.5) (0.8.2)\n",
            "Requirement already satisfied: thinc<7.4.0,>=7.3.0 in /usr/local/lib/python3.7/dist-packages (from spacy>=2.2.2->pt_core_news_sm==2.2.5) (7.3.1)\n",
            "Requirement already satisfied: plac<1.2.0,>=0.9.6 in /usr/local/lib/python3.7/dist-packages (from spacy>=2.2.2->pt_core_news_sm==2.2.5) (1.1.3)\n",
            "Requirement already satisfied: numpy>=1.15.0 in /usr/local/lib/python3.7/dist-packages (from spacy>=2.2.2->pt_core_news_sm==2.2.5) (1.19.5)\n",
            "Requirement already satisfied: requests<3.0.0,>=2.13.0 in /usr/local/lib/python3.7/dist-packages (from spacy>=2.2.2->pt_core_news_sm==2.2.5) (2.23.0)\n",
            "Requirement already satisfied: srsly<1.1.0,>=0.1.0 in /usr/local/lib/python3.7/dist-packages (from spacy>=2.2.2->pt_core_news_sm==2.2.5) (1.0.5)\n",
            "Requirement already satisfied: blis<0.5.0,>=0.4.0 in /usr/local/lib/python3.7/dist-packages (from spacy>=2.2.2->pt_core_news_sm==2.2.5) (0.4.1)\n",
            "Requirement already satisfied: catalogue<1.1.0,>=0.0.7 in /usr/local/lib/python3.7/dist-packages (from spacy>=2.2.2->pt_core_news_sm==2.2.5) (1.0.0)\n",
            "Requirement already satisfied: setuptools in /usr/local/lib/python3.7/dist-packages (from spacy>=2.2.2->pt_core_news_sm==2.2.5) (57.4.0)\n",
            "Requirement already satisfied: importlib-metadata>=0.20 in /usr/local/lib/python3.7/dist-packages (from catalogue<1.1.0,>=0.0.7->spacy>=2.2.2->pt_core_news_sm==2.2.5) (4.8.2)\n",
            "Requirement already satisfied: zipp>=0.5 in /usr/local/lib/python3.7/dist-packages (from importlib-metadata>=0.20->catalogue<1.1.0,>=0.0.7->spacy>=2.2.2->pt_core_news_sm==2.2.5) (3.6.0)\n",
            "Requirement already satisfied: typing-extensions>=3.6.4 in /usr/local/lib/python3.7/dist-packages (from importlib-metadata>=0.20->catalogue<1.1.0,>=0.0.7->spacy>=2.2.2->pt_core_news_sm==2.2.5) (3.10.0.2)\n",
            "Requirement already satisfied: certifi>=2017.4.17 in /usr/local/lib/python3.7/dist-packages (from requests<3.0.0,>=2.13.0->spacy>=2.2.2->pt_core_news_sm==2.2.5) (2021.10.8)\n",
            "Requirement already satisfied: idna<3,>=2.5 in /usr/local/lib/python3.7/dist-packages (from requests<3.0.0,>=2.13.0->spacy>=2.2.2->pt_core_news_sm==2.2.5) (2.10)\n",
            "Requirement already satisfied: urllib3!=1.25.0,!=1.25.1,<1.26,>=1.21.1 in /usr/local/lib/python3.7/dist-packages (from requests<3.0.0,>=2.13.0->spacy>=2.2.2->pt_core_news_sm==2.2.5) (1.24.3)\n",
            "Requirement already satisfied: chardet<4,>=3.0.2 in /usr/local/lib/python3.7/dist-packages (from requests<3.0.0,>=2.13.0->spacy>=2.2.2->pt_core_news_sm==2.2.5) (3.0.4)\n",
            "Requirement already satisfied: tqdm<5.0.0,>=4.10.0 in /usr/local/lib/python3.7/dist-packages (from thinc<7.4.0,>=7.3.0->spacy>=2.2.2->pt_core_news_sm==2.2.5) (4.62.3)\n",
            "Building wheels for collected packages: pt-core-news-sm\n",
            "  Building wheel for pt-core-news-sm (setup.py) ... \u001b[?25l\u001b[?25hdone\n",
            "  Created wheel for pt-core-news-sm: filename=pt_core_news_sm-2.2.5-py3-none-any.whl size=21186282 sha256=717f4e388528c2e12bf288b69e7a5578f640b2c40b75c8a6f2c0c2a39d65ffcb\n",
            "  Stored in directory: /tmp/pip-ephem-wheel-cache-i647b0ir/wheels/c3/f9/0c/5c014a36941a00f5df5fc0756cb961d7c457a978e697a6ce3b\n",
            "Successfully built pt-core-news-sm\n",
            "Installing collected packages: pt-core-news-sm\n",
            "Successfully installed pt-core-news-sm-2.2.5\n",
            "\u001b[38;5;2m✔ Download and installation successful\u001b[0m\n",
            "You can now load the model via spacy.load('pt_core_news_sm')\n",
            "\u001b[38;5;2m✔ Linking successful\u001b[0m\n",
            "/usr/local/lib/python3.7/dist-packages/pt_core_news_sm -->\n",
            "/usr/local/lib/python3.7/dist-packages/spacy/data/pt\n",
            "You can now load the model via spacy.load('pt')\n"
          ]
        }
      ]
    },
    {
      "cell_type": "code",
      "metadata": {
        "colab": {
          "base_uri": "https://localhost:8080/"
        },
        "id": "h14a6fx6r-ko",
        "outputId": "5941db91-7b71-494d-b4e1-022a2cecbf2a"
      },
      "source": [
        "pln = spacy.load('pt')\n",
        "pln"
      ],
      "execution_count": 52,
      "outputs": [
        {
          "output_type": "execute_result",
          "data": {
            "text/plain": [
              "<spacy.lang.pt.Portuguese at 0x7fcac351ebd0>"
            ]
          },
          "metadata": {},
          "execution_count": 52
        }
      ]
    },
    {
      "cell_type": "code",
      "metadata": {
        "colab": {
          "base_uri": "https://localhost:8080/"
        },
        "id": "I41np1BHsP12",
        "outputId": "86971ce2-27de-4b9e-ec6e-7790752e70a4"
      },
      "source": [
        "documento = pln('inteligentes inteligente inteligência corrida corrido correr correndo correstes')\n",
        "for token in documento:\n",
        "  print(token.text, token.lemma_)"
      ],
      "execution_count": 53,
      "outputs": [
        {
          "output_type": "stream",
          "name": "stdout",
          "text": [
            "inteligentes inteligente\n",
            "inteligente inteligente\n",
            "inteligência inteligência\n",
            "corrida corrido\n",
            "corrido correr\n",
            "correr correr\n",
            "correndo correr\n",
            "correstes correr\n"
          ]
        }
      ]
    },
    {
      "cell_type": "code",
      "metadata": {
        "id": "odttSEcUuRSA"
      },
      "source": [
        "def pre_processamento_lematizacao(texto):\n",
        "  texto = texto.lower()\n",
        "  texto = re.sub(r\" +\", ' ', texto)\n",
        "\n",
        "  documento = pln(texto)\n",
        "  tokens = []\n",
        "  for token in documento:\n",
        "    tokens.append(token.lemma_)\n",
        "  \n",
        "  tokens = [palavra for palavra in tokens if palavra not in stopwords and palavra not in string.punctuation]\n",
        "  texto_formatado = ' '.join([str(elemento) for elemento in tokens if not elemento.isdigit()])\n",
        "  \n",
        "  return texto_formatado"
      ],
      "execution_count": 54,
      "outputs": []
    },
    {
      "cell_type": "code",
      "metadata": {
        "colab": {
          "base_uri": "https://localhost:8080/",
          "height": 53
        },
        "id": "zc3ZxNo_upTg",
        "outputId": "728248a3-e1e0-4d59-92c4-b457da0cd762"
      },
      "source": [
        "pre_processamento_lematizacao(texto_original)"
      ],
      "execution_count": 55,
      "outputs": [
        {
          "output_type": "execute_result",
          "data": {
            "application/vnd.google.colaboratory.intrinsic+json": {
              "type": "string"
            },
            "text/plain": [
              "'inteligência artificial ser inteligência similar humano \\n  definir comer estudar agente artificial inteligência \\n  ciência engenhar produzir máquina inteligência \\n  resolver problema possuir inteligência \\n  relacionar comportamento inteligente \\n  construção máquina parir raciocinar \\n  aprender erro acerto \\n  inteligência artificial ser raciocinar situação cotidiano'"
            ]
          },
          "metadata": {},
          "execution_count": 55
        }
      ]
    },
    {
      "cell_type": "code",
      "metadata": {
        "colab": {
          "base_uri": "https://localhost:8080/",
          "height": 70
        },
        "id": "YX62nb12u6FD",
        "outputId": "179cb009-62ee-4079-bed1-554b39da25ad"
      },
      "source": [
        "texto_original"
      ],
      "execution_count": 56,
      "outputs": [
        {
          "output_type": "execute_result",
          "data": {
            "application/vnd.google.colaboratory.intrinsic+json": {
              "type": "string"
            },
            "text/plain": [
              "'A inteligência artificial é a inteligência similar à humana. \\n Definem como o estudo de agente artificial com inteligência. \\n Ciência e engenharia de produzir máquinas com inteligência. \\n Resolver problemas e possuir inteligência. \\n Relacionada ao comportamento inteligente. \\n Construção de máquinas para raciocinar. \\n Aprender com os erros e acertos. \\n Inteligência artificial é raciocinar nas situações do cotidiano.'"
            ]
          },
          "metadata": {},
          "execution_count": 56
        }
      ]
    },
    {
      "cell_type": "code",
      "metadata": {
        "id": "Sb7uhMwxvNc4"
      },
      "source": [
        "import heapq\n",
        "def sumarizar_lematizacao(texto, porcent_resumo):\n",
        "  texto_original = texto\n",
        "  # Chamada para a outra função de pré-processamento\n",
        "  texto_formatado = pre_processamento_lematizacao(texto_original)\n",
        "\n",
        "  frequencia_palavras = nltk.FreqDist(nltk.word_tokenize(texto_formatado))\n",
        "  frequencia_maxima = max(frequencia_palavras.values())\n",
        "  for palavra in frequencia_palavras.keys():\n",
        "    frequencia_palavras[palavra] = (frequencia_palavras[palavra] / frequencia_maxima)\n",
        "  lista_sentencas = nltk.sent_tokenize(texto_original)\n",
        "  \n",
        "  nota_sentencas = {}\n",
        "  for sentenca in lista_sentencas:\n",
        "    for palavra in nltk.word_tokenize(sentenca):\n",
        "      if palavra in frequencia_palavras.keys():\n",
        "        if sentenca not in nota_sentencas.keys():\n",
        "          nota_sentencas[sentenca] = frequencia_palavras[palavra]\n",
        "        else:\n",
        "          nota_sentencas[sentenca] += frequencia_palavras[palavra]\n",
        "  melhores_sentencas = heapq.nlargest(int((porcent_resumo/100)*len(lista_sentencas)), nota_sentencas, key=nota_sentencas.get)\n",
        "  return lista_sentencas, melhores_sentencas, frequencia_palavras, nota_sentencas"
      ],
      "execution_count": 57,
      "outputs": []
    },
    {
      "cell_type": "code",
      "metadata": {
        "colab": {
          "base_uri": "https://localhost:8080/",
          "height": 1000
        },
        "id": "AGyBRVNwwXdJ",
        "outputId": "9e104096-c901-4922-ef91-4c69ef5c5649"
      },
      "source": [
        "for url in lista_artigos:\n",
        "  g = Goose()\n",
        "  artigo = g.extract(url)\n",
        "  lista_sentencas, melhores_sentencas, _, _ = sumarizar_lematizacao(artigo.cleaned_text, 40)\n",
        "  visualiza_resumo(artigo.title, lista_sentencas, melhores_sentencas)"
      ],
      "execution_count": 58,
      "outputs": [
        {
          "output_type": "display_data",
          "data": {
            "text/html": [
              "<h1>Resumo do texto - Python: 10 motivos para aprender a linguagem em 2019</h1>"
            ],
            "text/plain": [
              "<IPython.core.display.HTML object>"
            ]
          },
          "metadata": {}
        },
        {
          "output_type": "display_data",
          "data": {
            "text/html": [
              " <mark>O Python é uma linguagem de programação de alto nível e muito versátil.</mark>Ela suporta tanto a programação orientada a objetos quanto a programação estruturada.Com Python, você pode acessar bibliotecas nativas que oferecem funcionalidades para desenvolvimento de projetos e implementação de aplicações complexas.A tecnologia está presente nos códigos do Instagram, Netflix, Spotify, Reddit, Facebook, Google e muitos outros.<mark>Desenvolvida pelo matemático holandês Guido van Rossum, atualmente a linguagem faz parte de um modelo de desenvolvimento comunitário, gerenciado pela organização sem fins lucrativos Python Software Foundation.</mark><mark>Lançada no começo dos anos 1090, a linguagem tem ganhado crescente notoriedade nos últimos anos, tornando-se uma das mais populares entre programadores, principalmente pela sua funcionalidade com dados, big data e inteligência artificial.</mark>Pensando em todo o seu potencial para a sua carreira, na lista abaixo, a redação do IT Trends separou 10 motivos para aprender Python em 2019.O IEEE Spectrum 2018, ranking anual das principais linguagens de programação, definiu o Python como uma das linguagens mais usadas entre programadores e projetos.2.<mark>Conhecimentos em Python são exigidos por muitas vagas\n",
              "\n",
              "Embora Python seja uma linguagem extremamente popular, ainda faltam desenvolvedores com conhecimento da tecnologia no mercado de trabalho.</mark>Saber Python pode não só contar como critério de desempate, como também é um conhecimento muito valorizado por empresas, principalmente para posições de desenvolvedor full-stack.<mark>Há mais de 125.000 bibliotecas Python de terceiros que tornam a linguagem extremamente popular em diversos campos do desenvolvimento web, configuração de nuvem, análise de dados, machine learning e inteligência artificial.</mark>Sua versatilidade reforça a sua quase onipresença atual.<mark>Dentro do universo da ciência de dados, Python é a linguagem mais popular entre os cientistas, analistas e pesquisadores.</mark>Um dos principais motivos é que ela fornece muitas bibliotecas e estruturas para a análise de dados, como PyBrain, NumPy, SymPy, PyMySQL, Pandas e outros.Todas essas bibliotecas são dedicadas para o desenvolvimento de algoritmos, coleta e análise de dados.<mark>Além de muito usada na ciência de dados, há também muitas bibliotecas eficientes na programação de inteligência artificial e machine learning.</mark>Theano, Scikit-learn, Tensorflow estão entre os módulos mais usados para algoritmos de machine learning.<mark>Já o Keras, é uma biblioteca de rede neural open source dedicada para aplicações de inteligência artificial.</mark><mark>Mesmo com características muito técnicas, Python é bastante útil e popular entre desenvolvedores web, pois também possui bibliotecas e estruturas específicas para o desenvolvimento de páginas web, como Django, web2py, Flask, bottle.py, CherryPy, Pyramid e outros.</mark>As aplicações Mozilla, Reddit, Spotify, Yelp foram desenvolvidas com ajuda de bibliotecas em Python.Sistemas como Windows, MacOs, distribuições Linux (incluindo Raspberry PI), Solaris, Unix e até FreeBSD conseguem operar programas em Python, se um sistema não roda Python de forma nativa é possível instalar a tecnologia.Veja as opções de sistemas alternativos que suportam a tecnologia aqui.<mark>Há muito conteúdo sobre a linguagem criado por usuários como, documentação, Python Wiki, Fóruns, cursos gratuitos e tutoriais, sendo assim, é possível encontrar praticamente qualquer resposta para suas dúvidas relacionadas à tecnologia em canais oficiais da linguagem.</mark>Python também é muito utilizado para criar interfaces gráficas de usuário (GUI).Tkinter é a interface de usuário (GUI) padrão da tecnologia, que foi usada na criação da GUI nativa do MaC OS X, distribuições Linux e Windows.<mark>Além de uma poderosa linguagem de programação, capaz de fazer uma variedade de programas complexos, Python também pode ser usado como uma linguagem de scripts.</mark>Um script feito em Python pode automatizar diferentes tarefas que reduzem o tempo de processos, economizando energia e em alguns casos até dinheiro.Agora você já sabe os motivos para aprender Python.<mark>Mas por onde começar a aprender a linguagem?</mark>Reunimos em outra matéria, algumas opções para uma imersão inicial e, o melhor, você não precisa sair de casa para aprender.Acesse a lista aqui. "
            ],
            "text/plain": [
              "<IPython.core.display.HTML object>"
            ]
          },
          "metadata": {}
        },
        {
          "output_type": "display_data",
          "data": {
            "text/html": [
              "<h1>Resumo do texto - O que são deepfakes?</h1>"
            ],
            "text/plain": [
              "<IPython.core.display.HTML object>"
            ]
          },
          "metadata": {}
        },
        {
          "output_type": "display_data",
          "data": {
            "text/html": [
              " Em janeiro de 2020, o Facebook anunciou que iria começar a banir vídeos com deepfake da sua plataforma.O anúncio, divulgado em um blog da empresa, afirmou que conteúdos do tipo manipulam a realidade, e são um grande desafio para a indústria tecnológica.Os vídeos são excluídos caso as edições não estejam óbvias para o usuário ou se levarem o espectador a acreditar que uma pessoa tenha dito coisas que, na verdade, nunca disseram.55 checadores, que falam 45 idiomas diferentes, são os responsáveis por analisar e sinalizar os vídeos falsos – a medida não inclui sátiras e outros produções humorísticas.Antes disso, em setembro de 2019, a empresa doou US$ 10 milhões para um fundo voltado a aprimorar as tecnologias de detecção desse tipo de material.<mark>Mas a companhia já também recebeu críticas por se recusar a retirar um vídeo falso da presidente da Câmara dos Deputados dos EUA, Nancy Pelosi, que viralizou no país no ano passado.</mark><mark>Deepfakes podem ser inofensivos.</mark>Neste vídeo, por exemplo, o rosto do ator Harrison Ford foi rejuvenescido e colocado em algumas cenas de Solo: Uma História Star Wars, do qual ele não participou.<mark>Mas, em muitos casos, podem ser perigosos e aumentar a desinformação, como manipular discursos de personalidades e chefes de Estado.</mark>Até o próprio Mark Zuckerberg já foi vítima dos softwares de deepfake.<mark>No vídeo, o presidente do Facebook, em uma versão criada em computador, afirmava que o sucesso de sua plataforma era devido a uma parceria feita com uma organização secreta.</mark>Mas afinal, o que são deepfakes?<mark>Os deepfakes nada mais são do que vídeos criados a partir de inteligência artificial e que reproduzem a aparência, as expressões e até a voz de alguém do mundo real.</mark><mark>O nome vem da junção de duas expressões em inglês: “deep learning” (“aprendizado profundo”) e “fake” (“falso”).</mark>Aprendizado o quê?<mark>O “deep learning” é uma evolução das metodologias de aperfeiçoamento de inteligência artificial.</mark><mark>Ela deriva do “machine learning”.</mark>O conceito, que veio junto com os primeiros avanços em inteligência artificial, nos anos 1950, quer dizer, literalmente, colocar um computador para aprender.A ideia é fazer o cérebro eletrônico estudar algoritmos até que entenda como ler dados e tomar decisões acertadas.É como se, vendo um mesmo filme várias vezes, ele pudesse reproduzir o que aprendeu fazendo uma história totalmente nova.A técnica possui várias aplicações, de um programa de recomendação de filmes e séries (alô, Netflix) aos vídeos manipulados.<mark>“Os deepfakes surgiram nos anos 1990, ganharam fama por volta de 2014 e atingiram um pico de popularidade em 2017″, explica Hao Li, professor de Ciência da Computação na Universidade do Sul da Califórnia.</mark>Em dezembro do ano passado, ele participou da VFXRio, evento brasileiro sobre tecnologia e efeitos visuais.Como eles são feitos?Hao é um dos precursores da área, e trabalha há 15 anos no desenvolvimento de tecnologias que aumentem o realismo das projeções virtuais.Ele já atuou em empresas de efeitos visuais como a Weta Digital (de filmes como O Senhor dos Anéis) e a Industrial Light & Magic (Star Wars), além de comandar uma startup especializada em criar avatares do tipo.No geral, os deepfakes são criados em duas etapas.<mark>Na primeira, o software capta imagens de referência da pessoa que será usada no vídeo (o presidente Donald Trump, por exemplo).</mark>Quanto mais imagens, maior será a precisão.<mark>“O ideal é criar um banco de dados com várias formas e ângulos do rosto”, diz Hao.</mark>Depois, é a vez de gravar os movimentos de uma segunda pessoa, que será a base (ou o molde) para o deepfake.<mark>Por fim, a inteligência artificial tem a missão de unir as duas coisas para criar o vídeo falso.</mark><mark>No exemplo abaixo (cujo vídeo você pode conferir clicando na imagem), as imagens captadas de Trump foram inseridas no molde, feito a partir do vídeo de imitação:\n",
              "\n",
              "No passado, a manipulação de rostos digitais era uma técnica restrita a profissionais de efeitos visuais.</mark>A ideia do deepfake é que, com inteligência artificial, todo o trabalho seja feito por meio de softwares.Um programa da Samsung, por exemplo, consegue criar vídeos falsos com apenas uma imagem de referência.Já o Zao é um app chinês que faz com que o seu rosto seja transportado para uma cena de filme ou série – basta tirar uma selfie.A aplicação mais famosa para este tipo de manipulação são os efeitos cinematográficos.Em 2019, filmes como Projeto Gemini e O Irlandês usaram técnicas similares para rejuvenescer os atores.Gemini, em especial, criou uma versão mais jovem do ator Will Smith, que contracenou com sua versão mais velha, de carne e osso.<mark>“Os deepfakes podem ser usados também em dispositivos de realidade virtual, ou para criar sistemas de chats com interações mais realistas”, lembra Hao.</mark><mark>A Fundação Carnegie, em um vídeo sobre o tema, diz que a tecnologia também pode ser usada para dar acessibilidade a pessoas com esclerose lateral amiotrófica, permitindo que pacientes criem cópias digitais da sua voz para ajudá-los quando não conseguirem mais falar.</mark>A alta na popularidade dos deepfakes em 2017 apontada por Hao tem motivo.Naquele ano, um usuário do fórum Reddit criou um software de deep learing que permitia ao usuário trocar o rosto de uma atriz de filme pornô pelo de celebridades.O programa analisava milhares de imagens de atrizes, modelos e cantoras para criar um padrão de rosto para cada uma.Depois, era só jogar no video desejado e ter um filme protagonizado por quem quer que fosse.<mark>A partir daí, diversas campanhas surgiram para alertar sobre os perigos da tecnologia, que se tornou uma espécie de versão turbinada das já conhecidas fake news (“notícias falsas”, em inglês).</mark><mark>Esta aqui, por exemplo, foi feita pelo BuzzFeed, e é “estrelada” por uma versão falsa do ex-presidente dos EUA Barack Obama.</mark>Os vídeos falsos, então, possuem uma série de maus usos: eles podem humilhar, chantagear ou difamar alguém, atacar organizações, incitar violência política, cancelar acordos diplomáticos e até fraudar eleições.<mark>Apesar do desenvolvimento até aqui, vamos que combinar que, olhando com atenção, mesmo os vídeos falsos falsos mais convincentes conseguem ser desmascarados.</mark><mark>Em setembro de 2019, Hao deu uma entrevista ao canal norte-americano CNBC, em que afirmava que deepfakes “perfeitamente reais” começariam a surgir dali a seis meses.</mark><mark>“Eu mantenho essa previsão e digo mais: isso já está acontecendo.”\n",
              "\n",
              "Para o professor, o grande entrave dos deepfakes é a resolução: em baixa qualidade, eles podem confundir, mas quando a resolução aumenta, as imperfeições ficam expostas.</mark><mark>“No entanto, já existem pesquisas em desenvolvimento para criar deepfakes em alta definição”, disse Hao.</mark>Ele cita um teste feito pelo sua própria empresa, a Pinscreen – também com Donald Trump, feita a partir de uma imitação do ator Alec Baldwin.<mark>Veja abaixo:\n",
              "\n",
              "Em meio a isso, surge o debate: se os deepfakes podem ser tão perigosos, eles não deveriam ser proibidos?</mark><mark>“Eu sou contra a generalização, e acho que nem tudo deve ser proibido”, defende Hao, que traz como exemplo o seu trabalho no filme Velozes e Furiosos 7, no qual ele foi um dos responsáveis pela reencenação digital do ator Paul Walker, que morreu durante as gravações.</mark>“A família de Paul estava de acordo e ajudou durante o processo.Tudo foi feito como uma forma de homenageá-lo – e funcionou”.A tecnologia dos vídeos falsos evolui em uma velocidade muito maior que a lei – o que impede a criação de uma única norma que os regule.<mark>Dessa forma, Hao, assim como boa parte dos especialistas, defende que mais de uma medida deve ser tomada em relação os deepfakes.</mark><mark>“O ideal seria que os países criassem organizações que digam o que é aceitável e o que deve ser proibido.” Deepfakes em vídeos pornôs, nem pensar.</mark>Além disso, é preciso aprimorar os algoritmos e técnicas de reconhecimento de vídeos falsos, o que facilitaria o combate a conteúdos nocivos.Projetos de lei que determinem os parâmetros para o compartilhamento também poderão ajudar plataformas de mídias sociais a atualizar suas políticas internas.Se organizar direito, ninguém cai em mentira. "
            ],
            "text/plain": [
              "<IPython.core.display.HTML object>"
            ]
          },
          "metadata": {}
        },
        {
          "output_type": "display_data",
          "data": {
            "text/html": [
              "<h1>Resumo do texto - Algoritmos de machine learning: descubra os impactos na sua empresa!</h1>"
            ],
            "text/plain": [
              "<IPython.core.display.HTML object>"
            ]
          },
          "metadata": {}
        },
        {
          "output_type": "display_data",
          "data": {
            "text/html": [
              " O avanço das tecnologias, sem dúvidas, significou um divisor de águas para o mundo empresarial, promovendo maior eficiência em todos setores.<mark>Para quem imaginou que a evolução já tinha chegado ao seu limite, os algoritmos de machine learning estão aí para provar que as máquinas não são capazes apenas de executar tarefas automatizadas — hoje, elas estão em um processo contínuo de aprendizado.</mark>Quer entender como essa ferramenta pode influenciar os resultados da sua empresa?<mark>Neste post, você vai conhecer 6 dos principais algoritmos de machine learning.</mark>Confira!<mark>O que é o machine learning e como funciona?</mark><mark>O machine learning — ou, simplesmente, aprendizado de máquina, como pode ser traduzido para o português — consiste no poderoso sistema em que os equipamentos conseguem reproduzir a capacidade de raciocínio do ser humano.</mark><mark>A partir da combinação de algoritmos e big data, a ferramenta realiza a análise de grandes volumes de dados, cria padrões, estabelece conexões e aprende a executar tarefas de forma inteligente, sem a intervenção do homem.</mark><mark>Nesse contexto, é importante destacar que a tecnologia pode ser dividida em duas categorias principais — a supervisionada e a não supervisionada.</mark>Classificamos como algoritmos supervisionados aqueles que dependem da intervenção do homem para controlar a entrada e saída de dados, bem como o treinamento das máquinas.<mark>Já na modalidade não supervisionada, o processamento das atividades, desde as mais simples até as mais complexas, é efetuado com o auxílio do deep learning.</mark><mark>Embora façam parte de uma mesma tecnologia, os algoritmos de machine learning são construídos por diferentes sistemas e podem apresentar funções diversificadas.</mark>Conheça os principais deles.<mark>A árvore de decisão é um tipo de algoritmo de apoio, cuja dinâmica de funcionamento é baseada em um gráfico ou modelo de decisões alinhado com as suas possíveis consequências.</mark>Além disso, o sistema de árvore leva em consideração resultados de eventos fortuitos, os custos e utilidades dos recursos.Sob a ótica da tomada de decisões de um negócio, a árvore de decisões é representada por um número mínimo de perguntas.Com base nas respostas, avalia-se a probabilidade de tomar decisões acertadas.O objetivo desse método é abordar a sistemática dos problemas, a fim de que se chegue à conclusão mais lógica possível.<mark>A técnica de regressão visa prever algo contínuo e numérico, para que se possa identificar oscilações entre os valores esperados, e ela pode ser feita de maneiras distintas.</mark><mark>A regressão linear diz respeito ao modelo utilizado para ajustar dados e observar a relação entre um alvo e um indicador em linha reta.</mark>Os mínimos quadrados, por outro lado, consistem no tipo de métrica de erro que está sendo minimizado.<mark>Para tanto, traça-se uma linha reta, e cada dado é representado por um ponto ao longo da linha; eles podem estar acima ou abaixo dela.</mark>Então, mede-se a distância vertical entre os pontos e a linha, e, depois, elas são somadas.Como resultado, a posição ideal da linha é aquela em que a distância é a menor possível.O Support Vector Machine (SVM) é um algoritmo binário de classificação.A metodologia é utilizada quando preciso desmembrar dois tipos de situações, que são linearmente separáveis.Com essa escala, podemos resolver diversos tipos de problemas.O SVM já foi aproveitado, por exemplo, para reconhecimento de site de splice humano, detecção de gênero a partir de imagens, publicidades em displays, entre outras tarefas mais complexas.<mark>A regressão logística é o algoritmo voltado para a medir a relação entre uma variável categórica e outras variáveis independentes.</mark>Uma forma estatística para modelar resultados binomiais.<mark>Na prática, esse poderoso algoritmo pode ser empregado em aplicações reais, como:\n",
              "\n",
              "Baseada no Teorema de Bayes, essa técnica considera que todas as características contribuem de maneira independente para determinada resposta, ainda que umas dependam das outras.</mark>Trata-se de um método de classificação calculado por meio de probabilidades.É a ferramenta que agrupa objetos de acordo com os aspectos apresentados em comum.<mark>Portanto, cada algoritmo de agrupamento sempre será diferente — podemos encontrar algoritmos de conectividade, de redes neurais, de densidade etc.</mark><mark>Os recursos do machine learning vêm sendo cada vez mais utilizados nos mais variados tipos de empreendimento e, basicamente, em todos os setores de uma organização.</mark>E não é difícil entender o motivo: o gerenciamento e análise de dados leva a uma melhor estruturação de processos.O controle eficiente da cadeia de suprimentos, é um belo exemplo de como essa inovação vem sendo implementada para superar as expectativas de resultados.<mark>Prever demandas futuras é um dos grandes desafios para o setor de estoque, porém o machine learning tem provado que é possível detectar padrões de consumo futuros.</mark><mark>Outro ponto relevante que também está sendo aperfeiçoado com a tecnologia é a interação com os clientes — com a aprendizagem de máquina, os serviços de atendimento conseguem solucionar questões de maneira ágil e satisfatória, contatando os especialistas apenas quando necessário.</mark>Isso gera uma experiência positiva para o público-alvo.De um modo geral, a capacidade de rastrear e analisar informações é também uma forma de garantir aos gestores os elementos necessários para tomar as melhores decisões.Diante de uma nova era tecnológica, o conhecimento profundo sobre dados que são colhidos nas interações com o mercado representa uma peça-chave para ganhar competitividade.<mark>Nesse sentido, os algoritmos de machine learning se mostram uma excelente estratégia para iniciar o processo de transformação digital na sua empresa.</mark>A tarefa não é simples, porém buscar auxílio nas fontes certas pode facilitar bastante esse desenvolvimento.Para os que ainda se sentem inseguros, o blog do Cronapp é uma excelente fonte de informações sobre o uso de tecnologia nas empresas.Gostou do artigo?O que acha de continuar aprendendo sobre tecnologias que podem revolucionar o desempenho do seu negócio?Então, assine a nossa newsletter para receber novidades quentinhas diretamente no seu e-mail. "
            ],
            "text/plain": [
              "<IPython.core.display.HTML object>"
            ]
          },
          "metadata": {}
        }
      ]
    }
  ]
}